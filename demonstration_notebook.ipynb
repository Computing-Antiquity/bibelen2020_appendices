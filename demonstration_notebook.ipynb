{
 "cells": [
  {
   "cell_type": "code",
   "execution_count": 3,
   "id": "8d2be019",
   "metadata": {},
   "outputs": [],
   "source": [
    "###demonstration notebook for the article \"Computing Danish Bible Translations: A Stylometric Analysis of Bibelen 2020 Compared with DO92\"\n"
   ]
  },
  {
   "cell_type": "code",
   "execution_count": 6,
   "id": "034e08de",
   "metadata": {},
   "outputs": [],
   "source": [
    "#Load in the texts\n",
    "\n",
    "import pandas as pd\n",
    "\n",
    "from glob import glob\n",
    "\n",
    "books = []\n",
    "\n",
    "\n",
    "for book in glob(\"./data1_nopunct/books/*/*/*.txt\"):\n",
    "    book_type = book.split(\"/\")[-2].strip()\n",
    "    book_translator = book.split(\"/\")[-3].strip()\n",
    "    book_name = book.split(\"/\")[-1].split(\".\")[0].replace(book_translator, \"\").strip()\n",
    "    with open(book, \"r\") as f:\n",
    "        book_content = f.read().replace(\"\\n\", \" \").strip()\n",
    "    books.append({\n",
    "        \"type\": book_type,\n",
    "        \"name\": book_name,\n",
    "        \"translator\": book_translator,\n",
    "        \"content\": book_content\n",
    "    })\n",
    "\n"
   ]
  },
  {
   "cell_type": "code",
   "execution_count": null,
   "id": "e9f30c46",
   "metadata": {},
   "outputs": [],
   "source": [
    "##Length and Vocabulary Analyses"
   ]
  },
  {
   "cell_type": "code",
   "execution_count": 7,
   "id": "9a92f920",
   "metadata": {},
   "outputs": [
    {
     "name": "stdout",
     "output_type": "stream",
     "text": [
      "===== 1992 total number of tokens =====\n",
      "665987\n",
      "===== 2020 total number of tokens =====\n",
      "652060\n"
     ]
    }
   ],
   "source": [
    "## Total token count for Table 2\n",
    "\n",
    "\n",
    "\n",
    "book_df = pd.DataFrame(books)\n",
    "\n",
    "# Dataframe contains the number of tokens per book\n",
    "book_df = book_df.assign(count_tokens = pd.DataFrame(books).content.apply(lambda x: len(x.split(\" \"))))\n",
    "\n",
    "# Sum the total number of tokens per translator\n",
    "print(\"===== 1992 total number of tokens =====\")\n",
    "print(book_df[book_df.translator == \"1992\"].count_tokens.sum())\n",
    "print(\"===== 2020 total number of tokens =====\")\n",
    "print(book_df[book_df.translator == \"2020\"].count_tokens.sum())\n",
    "\n",
    "# Difference in number of tokens per book\n",
    "# If the value is positive, the 1992 translation has more tokens than the 2020 translation\n",
    "# If the value is negative, the 2020 translation has more tokens than the 1992 translation\n",
    "diff_tokens = pd.DataFrame(book_df[book_df.translator == \"1992\"].sort_values(\"name\").count_tokens.values - book_df[book_df.translator == \"2020\"].sort_values(\"name\").count_tokens.values)\n",
    "diff_tokens = diff_tokens.assign(name = book_df[book_df.translator == \"1992\"].sort_values(\"name\").name.values)\n",
    "diff_tokens.columns = [\"1992 translation - 2020 translation\", \"name\"]"
   ]
  },
  {
   "cell_type": "code",
   "execution_count": null,
   "id": "bdaec226",
   "metadata": {},
   "outputs": [],
   "source": [
    "## Token counts for Table 3 and NT/OT Token counts in Table 2\n",
    "\n",
    "book_df[\"token_count\"] = book_df[\"content\"].apply(lambda x: len(x.split()))"
   ]
  },
  {
   "cell_type": "code",
   "execution_count": null,
   "id": "7c9d880a",
   "metadata": {},
   "outputs": [
    {
     "name": "stdout",
     "output_type": "stream",
     "text": [
      "OT1992\n",
      "NT1992\n",
      "OT2020\n",
      "NT2020\n",
      "493479\n",
      "169998\n",
      "463743\n",
      "188232\n",
      "translator   1992   2020  diff_1992_minus_2020  diff_percent_1992_vs_2020\n",
      "name                                                                     \n",
      "26_Ezek     30664  24956                  5708                  22.872255\n",
      "03_Lev      19765  15124                  4641                  30.686326\n",
      "04_Num      22849  18252                  4597                  25.186281\n",
      "02_Exod     26617  22641                  3976                  17.561062\n",
      "05_Deut     26694  23245                  3449                  14.837599\n",
      "...           ...    ...                   ...                        ...\n",
      "18_Job      15717  17647                 -1930                 -10.936703\n",
      "45_Rom       8941  10893                 -1952                 -17.919765\n",
      "42_Luke     23962  25941                 -1979                  -7.628850\n",
      "44_Acts     22513  24886                 -2373                  -9.535482\n",
      "23_Isa      29399  32268                 -2869                  -8.891162\n",
      "\n",
      "[66 rows x 4 columns]\n"
     ]
    }
   ],
   "source": [
    "OT1992 = book_df[(book_df[\"type\"]==\"GT\") & (book_df[\"translator\"]==\"1992\")][\"token_count\"].sum()\n",
    "NT1992 = book_df[(book_df[\"type\"]==\"NT\") & (book_df[\"translator\"]==\"1992\")][\"token_count\"].sum()\n",
    "OT2020 = book_df[(book_df[\"type\"]==\"GT\") & (book_df[\"translator\"]==\"2020\")][\"token_count\"].sum()\n",
    "NT2020 = book_df[(book_df[\"type\"]==\"NT\") & (book_df[\"translator\"]==\"2020\")][\"token_count\"].sum()\n",
    "\n",
    "print(\"OT1992\")\n",
    "print(\"NT1992\")\n",
    "print(\"OT2020\")\n",
    "print(\"NT2020\")\n",
    "print(OT1992)\n",
    "print(NT1992)\n",
    "print(OT2020)\n",
    "print(NT2020)\n",
    "\n",
    "token_pivot = book_df.pivot(index=\"name\", columns=\"translator\", values=\"token_count\")\n",
    "token_pivot[\"diff_1992_minus_2020\"] = token_pivot[\"1992\"] - token_pivot[\"2020\"]\n",
    "token_pivot[\"diff_percent_1992_vs_2020\"] = 100 * token_pivot[\"diff_1992_minus_2020\"] / token_pivot[\"2020\"]\n",
    "token_pivot_sorted = token_pivot.sort_values(by=\"diff_1992_minus_2020\", ascending=False)\n",
    "print(token_pivot_sorted)\n",
    "token_pivot_sorted.to_csv(\"token_counts_sorted.csv\")\n",
    "\n",
    "\n"
   ]
  },
  {
   "cell_type": "code",
   "execution_count": null,
   "id": "7d2a4562",
   "metadata": {},
   "outputs": [],
   "source": [
    "## Vocabulary Richness\n"
   ]
  },
  {
   "cell_type": "code",
   "execution_count": null,
   "id": "1c47ba06",
   "metadata": {},
   "outputs": [],
   "source": [
    "# Perform the lemmatization using Danish Spacy model\n",
    "# First, you need to install the large model of Danish Spacy, running\n",
    "# python -m spacy download da_core_news_lg\n",
    "# in the terminal\n",
    "#restart the notebook after installing the model\n",
    "# Run the notebook from the cell below to continue"
   ]
  },
  {
   "cell_type": "code",
   "execution_count": 3,
   "id": "13a6c9cd",
   "metadata": {},
   "outputs": [],
   "source": [
    "import spacy\n",
    "import pandas as pd\n",
    "from glob import glob\n",
    "\n",
    "books = []\n",
    "\n",
    "\n",
    "for book in glob(\"./data1_nopunct/books/*/*/*.txt\"):\n",
    "    book_type = book.split(\"/\")[-2].strip()\n",
    "    book_translator = book.split(\"/\")[-3].strip()\n",
    "    book_name = book.split(\"/\")[-1].split(\".\")[0].replace(book_translator, \"\").strip()\n",
    "    with open(book, \"r\") as f:\n",
    "        book_content = f.read().replace(\"\\n\", \" \").strip()\n",
    "    books.append({\n",
    "        \"type\": book_type,\n",
    "        \"name\": book_name,\n",
    "        \"translator\": book_translator,\n",
    "        \"content\": book_content\n",
    "    })\n",
    "\n",
    "book_df = pd.DataFrame(books)\n",
    "\n",
    "\n",
    "\n",
    "nlp = spacy.load(\"da_core_news_lg\")\n",
    "\n",
    "def lemmatize_text(text):\n",
    "    doc = nlp(text)\n",
    "    return \" \".join([token.lemma_ for token in doc])\n",
    "\n",
    "book_df[\"lemmatized_content\"] = book_df[\"content\"].apply(lemmatize_text)"
   ]
  },
  {
   "cell_type": "code",
   "execution_count": null,
   "id": "e8f60fa3",
   "metadata": {},
   "outputs": [],
   "source": [
    "## Unique number of lemmas per book"
   ]
  },
  {
   "cell_type": "code",
   "execution_count": 4,
   "id": "3c0cc14f",
   "metadata": {},
   "outputs": [
    {
     "name": "stdout",
     "output_type": "stream",
     "text": [
      "         name translator  count_lemmas\n",
      "0     21_Eccl       1992           820\n",
      "1     26_Ezek       1992          2474\n",
      "2     12_2Kgs       1992          1982\n",
      "3      04_Num       1992          2085\n",
      "4      39_Mal       1992           419\n",
      "..        ...        ...           ...\n",
      "127  63_2John       2020           135\n",
      "128   41_Mark       2020          1509\n",
      "129   55_2Tim       2020           506\n",
      "130  62_1John       2020           344\n",
      "131   57_Phlm       2020           186\n",
      "\n",
      "[132 rows x 3 columns]\n"
     ]
    }
   ],
   "source": [
    "book_df = book_df.assign(count_lemmas = book_df.lemmatized_content.apply(lambda x: len(set(x.split(\" \")))))\n",
    "print(book_df[[\"name\", \"translator\", \"count_lemmas\"]])"
   ]
  },
  {
   "cell_type": "code",
   "execution_count": 5,
   "id": "9bfcf580",
   "metadata": {},
   "outputs": [
    {
     "name": "stdout",
     "output_type": "stream",
     "text": [
      "===== 1992 total number of lemmas =====\n",
      "16194\n",
      "===== 2020 total number of lemmas =====\n",
      "14329\n",
      "===\n",
      "Difference in unique lemmas between 1992 and 2020 over all the bible\n",
      "1865\n"
     ]
    }
   ],
   "source": [
    "## Calculation for Table 5\n",
    "# Unique number of lemmas across all the books\n",
    "print(\"===== 1992 total number of lemmas =====\")\n",
    "print(len(set(\" \".join(book_df[book_df.translator == \"1992\"].lemmatized_content).split(\" \"))))\n",
    "\n",
    "print(\"===== 2020 total number of lemmas =====\")\n",
    "print(len(set(\" \".join(book_df[book_df.translator == \"2020\"].lemmatized_content).split(\" \"))))\n",
    "\n",
    "print(\"===\")\n",
    "print(\"Difference in unique lemmas between 1992 and 2020 over all the bible\")\n",
    "print(len(set(\" \".join(book_df[book_df.translator == \"1992\"].lemmatized_content).split(\" \"))) - len(set(\" \".join(book_df[book_df.translator == \"2020\"].lemmatized_content).split(\" \"))))"
   ]
  },
  {
   "cell_type": "code",
   "execution_count": null,
   "id": "11a7d2ba",
   "metadata": {},
   "outputs": [
    {
     "name": "stdout",
     "output_type": "stream",
     "text": [
      "GT1992: 13668\n",
      "NT1992: 6274\n",
      "GT2020: 12507\n",
      "NT2020: 5503\n"
     ]
    }
   ],
   "source": [
    "#word types OT1992, NT1992, OT2020, NT2020\n",
    "def all_unique_lemmas(series):\n",
    "    # Collects all lemmas across the books\n",
    "    lemma_set = set()\n",
    "    for text in series:\n",
    "        for lemma in text.split():\n",
    "            lemma_set.add(lemma.lower())\n",
    "    return len(lemma_set)\n",
    "\n",
    "groups = {\n",
    "    \"GT1992\":  book_df.query('type == \"GT\" and translator == \"1992\"')[\"lemmatized_content\"],\n",
    "    \"NT1992\":  book_df.query('type == \"NT\" and translator == \"1992\"')[\"lemmatized_content\"],\n",
    "    \"GT2020\":  book_df.query('type == \"GT\" and translator == \"2020\"')[\"lemmatized_content\"],\n",
    "    \"NT2020\":  book_df.query('type == \"NT\" and translator == \"2020\"')[\"lemmatized_content\"],\n",
    "}\n",
    "\n",
    "for k, s in groups.items():\n",
    "    print(f\"{k}: {all_unique_lemmas(s)}\")"
   ]
  },
  {
   "cell_type": "code",
   "execution_count": 9,
   "id": "039a6a74",
   "metadata": {},
   "outputs": [
    {
     "name": "stdout",
     "output_type": "stream",
     "text": [
      "OT1992\n",
      "NT1992\n",
      "OT2020\n",
      "NT2020\n",
      "55813\n",
      "22389\n",
      "53296\n",
      "21952\n",
      "translator  1992  2020  diff_1992_minus_2020  diff_percent_1992_vs_2020\n",
      "name                                                                   \n",
      "05_Deut     2310  1985                   325                  16.372796\n",
      "18_Job      2156  1897                   259                  13.653137\n",
      "10_2Sam     1947  1743                   204                  11.703959\n",
      "44_Acts     2260  2068                   192                   9.284333\n",
      "11_1Kgs     2090  1900                   190                  10.000000\n",
      "...          ...   ...                   ...                        ...\n",
      "32_Jonah     310   361                   -51                 -14.127424\n",
      "07_Judg     1760  1833                   -73                  -3.982542\n",
      "66_Rev      1221  1310                   -89                  -6.793893\n",
      "28_Hos       904   996                   -92                  -9.236948\n",
      "17_Esth      758   855                   -97                 -11.345029\n",
      "\n",
      "[66 rows x 4 columns]\n"
     ]
    }
   ],
   "source": [
    "#calculations for Table 6 and Table 7\n",
    "\n",
    "\n",
    "\n",
    "OT1992 = book_df[(book_df[\"type\"]==\"GT\") & (book_df[\"translator\"]==\"1992\")][\"count_lemmas\"].sum()\n",
    "NT1992 = book_df[(book_df[\"type\"]==\"NT\") & (book_df[\"translator\"]==\"1992\")][\"count_lemmas\"].sum()\n",
    "OT2020 = book_df[(book_df[\"type\"]==\"GT\") & (book_df[\"translator\"]==\"2020\")][\"count_lemmas\"].sum()\n",
    "NT2020 = book_df[(book_df[\"type\"]==\"NT\") & (book_df[\"translator\"]==\"2020\")][\"count_lemmas\"].sum()\n",
    "\n",
    "print(\"OT1992\")\n",
    "print(\"NT1992\")\n",
    "print(\"OT2020\")\n",
    "print(\"NT2020\")\n",
    "print(OT1992)\n",
    "print(NT1992)\n",
    "print(OT2020)\n",
    "print(NT2020)\n",
    "\n",
    "token_pivot = book_df.pivot(index=\"name\", columns=\"translator\", values=\"count_lemmas\")\n",
    "token_pivot[\"diff_1992_minus_2020\"] = token_pivot[\"1992\"] - token_pivot[\"2020\"]\n",
    "token_pivot[\"diff_percent_1992_vs_2020\"] = 100 * token_pivot[\"diff_1992_minus_2020\"] / token_pivot[\"2020\"]\n",
    "token_pivot_sorted = token_pivot.sort_values(by=\"diff_1992_minus_2020\", ascending=False)\n",
    "# Rund procentkolonnen til 2 decimaler\n",
    "token_pivot[\"diff_percent_1992_vs_2020\"] = token_pivot[\"diff_percent_1992_vs_2020\"].round(2)\n",
    "print(token_pivot_sorted)\n",
    "token_pivot_sorted.to_csv(\"lemma_counts_sorted.csv\")\n",
    "\n"
   ]
  },
  {
   "cell_type": "code",
   "execution_count": 10,
   "id": "3eb012a2",
   "metadata": {},
   "outputs": [
    {
     "name": "stdout",
     "output_type": "stream",
     "text": [
      "translator  1992  2020  diff_1992_minus_2020  diff_percent_1992_vs_2020\n",
      "name                                                                   \n",
      "05_Deut     2310  1985                   325                      16.37\n",
      "16_Neh      1546  1360                   186                      13.68\n",
      "18_Job      2156  1897                   259                      13.65\n",
      "10_2Sam     1947  1743                   204                      11.70\n",
      "58_Heb      1185  1072                   113                      10.54\n",
      "...          ...   ...                   ...                        ...\n",
      "28_Hos       904   996                   -92                      -9.24\n",
      "57_Phlm      168   186                   -18                      -9.68\n",
      "62_1John     305   344                   -39                     -11.34\n",
      "17_Esth      758   855                   -97                     -11.35\n",
      "32_Jonah     310   361                   -51                     -14.13\n",
      "\n",
      "[66 rows x 4 columns]\n"
     ]
    }
   ],
   "source": [
    "token_pivot_sorted_perc = token_pivot.sort_values(by=\"diff_percent_1992_vs_2020\", ascending=False)\n",
    "print(token_pivot_sorted_perc)\n",
    "token_pivot_sorted_perc.to_csv(\"lemma_counts_sorted_perc.csv\")"
   ]
  },
  {
   "cell_type": "code",
   "execution_count": null,
   "id": "7aa38892",
   "metadata": {},
   "outputs": [],
   "source": [
    "## Type-Token Ratio (TTR) calculations for Figure 1"
   ]
  },
  {
   "cell_type": "code",
   "execution_count": 11,
   "id": "e4708cff",
   "metadata": {},
   "outputs": [],
   "source": [
    "book_df = book_df.assign(ttr = book_df.lemmatized_content.apply(lambda x: len(set(x.split(\" \"))))/book_df.lemmatized_content.apply(lambda x: len(x.split(\" \"))))"
   ]
  },
  {
   "cell_type": "code",
   "execution_count": 12,
   "id": "3058e2b8",
   "metadata": {},
   "outputs": [
    {
     "data": {
      "text/html": [
       "<div>\n",
       "<style scoped>\n",
       "    .dataframe tbody tr th:only-of-type {\n",
       "        vertical-align: middle;\n",
       "    }\n",
       "\n",
       "    .dataframe tbody tr th {\n",
       "        vertical-align: top;\n",
       "    }\n",
       "\n",
       "    .dataframe thead th {\n",
       "        text-align: right;\n",
       "    }\n",
       "</style>\n",
       "<table border=\"1\" class=\"dataframe\">\n",
       "  <thead>\n",
       "    <tr style=\"text-align: right;\">\n",
       "      <th></th>\n",
       "      <th>1992 translation - 2020 translation variation in TTR</th>\n",
       "      <th>name</th>\n",
       "      <th>book_type</th>\n",
       "    </tr>\n",
       "  </thead>\n",
       "  <tbody>\n",
       "    <tr>\n",
       "      <th>0</th>\n",
       "      <td>0.002162</td>\n",
       "      <td>01_Gen</td>\n",
       "      <td>GT</td>\n",
       "    </tr>\n",
       "    <tr>\n",
       "      <th>1</th>\n",
       "      <td>-0.007843</td>\n",
       "      <td>02_Exod</td>\n",
       "      <td>GT</td>\n",
       "    </tr>\n",
       "    <tr>\n",
       "      <th>2</th>\n",
       "      <td>-0.016055</td>\n",
       "      <td>03_Lev</td>\n",
       "      <td>GT</td>\n",
       "    </tr>\n",
       "    <tr>\n",
       "      <th>3</th>\n",
       "      <td>-0.023071</td>\n",
       "      <td>04_Num</td>\n",
       "      <td>GT</td>\n",
       "    </tr>\n",
       "    <tr>\n",
       "      <th>4</th>\n",
       "      <td>0.000575</td>\n",
       "      <td>05_Deut</td>\n",
       "      <td>GT</td>\n",
       "    </tr>\n",
       "    <tr>\n",
       "      <th>...</th>\n",
       "      <td>...</td>\n",
       "      <td>...</td>\n",
       "      <td>...</td>\n",
       "    </tr>\n",
       "    <tr>\n",
       "      <th>61</th>\n",
       "      <td>-0.005230</td>\n",
       "      <td>62_1John</td>\n",
       "      <td>NT</td>\n",
       "    </tr>\n",
       "    <tr>\n",
       "      <th>62</th>\n",
       "      <td>-0.004071</td>\n",
       "      <td>63_2John</td>\n",
       "      <td>NT</td>\n",
       "    </tr>\n",
       "    <tr>\n",
       "      <th>63</th>\n",
       "      <td>0.051896</td>\n",
       "      <td>64_3John</td>\n",
       "      <td>NT</td>\n",
       "    </tr>\n",
       "    <tr>\n",
       "      <th>64</th>\n",
       "      <td>0.052374</td>\n",
       "      <td>65_Jude</td>\n",
       "      <td>NT</td>\n",
       "    </tr>\n",
       "    <tr>\n",
       "      <th>65</th>\n",
       "      <td>-0.005005</td>\n",
       "      <td>66_Rev</td>\n",
       "      <td>NT</td>\n",
       "    </tr>\n",
       "  </tbody>\n",
       "</table>\n",
       "<p>66 rows × 3 columns</p>\n",
       "</div>"
      ],
      "text/plain": [
       "    1992 translation - 2020 translation variation in TTR      name book_type\n",
       "0                                            0.002162       01_Gen        GT\n",
       "1                                           -0.007843      02_Exod        GT\n",
       "2                                           -0.016055       03_Lev        GT\n",
       "3                                           -0.023071       04_Num        GT\n",
       "4                                            0.000575      05_Deut        GT\n",
       "..                                                ...          ...       ...\n",
       "61                                          -0.005230     62_1John        NT\n",
       "62                                          -0.004071     63_2John        NT\n",
       "63                                           0.051896     64_3John        NT\n",
       "64                                           0.052374      65_Jude        NT\n",
       "65                                          -0.005005       66_Rev        NT\n",
       "\n",
       "[66 rows x 3 columns]"
      ]
     },
     "execution_count": 12,
     "metadata": {},
     "output_type": "execute_result"
    }
   ],
   "source": [
    "# Compute the difference in TTR\n",
    "diff_ttr = pd.DataFrame(book_df[book_df.translator == \"1992\"].sort_values(\"name\").ttr.values - book_df[book_df.translator == \"2020\"].sort_values(\"name\").ttr.values)\n",
    "diff_ttr = diff_ttr.assign(name = book_df[book_df.translator == \"1992\"].sort_values(\"name\").name.values)\n",
    "diff_ttr.columns = [\"1992 translation - 2020 translation variation in TTR\", \"name\"]\n",
    "diff_ttr = diff_ttr.assign(book_type = book_df[book_df.translator == \"1992\"].sort_values(\"name\").type.values)\n",
    "diff_ttr"
   ]
  },
  {
   "cell_type": "code",
   "execution_count": 13,
   "id": "7d570535",
   "metadata": {},
   "outputs": [],
   "source": [
    "diff_ttr.sort_values(by=\"1992 translation - 2020 translation variation in TTR\", ascending=False).to_csv(\"diff_ttr_sorted.csv\", index=True)"
   ]
  },
  {
   "cell_type": "code",
   "execution_count": 14,
   "id": "3b4612d5",
   "metadata": {},
   "outputs": [],
   "source": [
    "diff_ttr.sort_values(by=\"1992 translation - 2020 translation variation in TTR\", ascending=False).to_csv(\"diff_ttr_sorted.csv\", index=True)"
   ]
  },
  {
   "cell_type": "code",
   "execution_count": 16,
   "id": "dc2f9f74",
   "metadata": {},
   "outputs": [
    {
     "data": {
      "image/png": "[encoded data removed]",
      "text/plain": [
       "<Figure size 1600x300 with 2 Axes>"
      ]
     },
     "metadata": {},
     "output_type": "display_data"
    }
   ],
   "source": [
    "from matplotlib import pyplot as plt\n",
    "import seaborn as sns\n",
    "import re\n",
    "\n",
    "plt.figure(figsize=(16, 3))\n",
    "\n",
    "# Sortér og lav kopi\n",
    "sorted_df_distances = diff_ttr.sort_values(\"1992 translation - 2020 translation variation in TTR\", ascending=False).copy()\n",
    "\n",
    "# Fjern tal + underscore præfix i navnene\n",
    "sorted_df_distances[\"name_clean\"] = sorted_df_distances[\"name\"].apply(lambda s: re.sub(r\"^\\d+_\", \"\", s))\n",
    "\n",
    "# Vend fortegnene på værdierne\n",
    "sorted_df_distances[\"flipped_ttr\"] = -sorted_df_distances[\"1992 translation - 2020 translation variation in TTR\"]\n",
    "\n",
    "ax = sns.heatmap(\n",
    "    sorted_df_distances[\"flipped_ttr\"].values.reshape(1, -1),\n",
    "    cmap=\"magma\",\n",
    "    xticklabels=sorted_df_distances.name_clean,\n",
    "    yticklabels=False,\n",
    "    cbar=True,\n",
    "    cbar_kws={\"label\": \"Difference in TTR\"}\n",
    ")\n",
    "\n",
    "# Invertér colorbaren, så -0.04 er øverst og 0.04 nederst\n",
    "ax.collections[0].colorbar.ax.invert_yaxis()  # [1][6][7]\n",
    "\n",
    "# Forstør x-tick labels\n",
    "ax.set_xticklabels(ax.get_xticklabels(), fontsize=14, rotation=90)\n",
    "\n",
    "for tick_label, book_type in zip(ax.axes.get_xticklabels(), sorted_df_distances.book_type):\n",
    "    if book_type == \"NT\":\n",
    "        tick_label.set_color(\"blue\")\n",
    "    else:\n",
    "        tick_label.set_color(\"red\")\n",
    "\n",
    "plt.tight_layout()\n",
    "plt.show()"
   ]
  },
  {
   "cell_type": "code",
   "execution_count": null,
   "id": "92b4ea85",
   "metadata": {},
   "outputs": [],
   "source": [
    "## Compute excluded words\n",
    "#restart notebook kernel"
   ]
  },
  {
   "cell_type": "code",
   "execution_count": 1,
   "id": "c4eef028",
   "metadata": {},
   "outputs": [],
   "source": [
    "\n",
    "\n",
    "from glob import glob\n",
    "\n",
    "books = []\n",
    "\n",
    "for book in glob(\"./data1_nopunct/books/*/*/*.txt\"):\n",
    "    book_type = book.split(\"/\")[-2].strip()\n",
    "    book_edition = book.split(\"/\")[-3].strip()\n",
    "    book_name = book.split(\"/\")[-1].split(\".\")[0].replace(book_edition, \"\").strip()\n",
    "    with open(book, \"r\") as f:\n",
    "        book_content = f.read().replace(\"\\n\", \" \").strip()\n",
    "    books.append({\n",
    "        \"type\": book_type,\n",
    "        \"name\": book_name,\n",
    "        \"edition\": book_edition,\n",
    "        \"content\": book_content\n",
    "    })\n",
    "\n"
   ]
  },
  {
   "cell_type": "code",
   "execution_count": 2,
   "id": "7d50b7aa",
   "metadata": {},
   "outputs": [],
   "source": [
    "import pandas as pd\n",
    "import spacy\n",
    "\n",
    "books_df = pd.DataFrame(books)"
   ]
  },
  {
   "cell_type": "code",
   "execution_count": 4,
   "id": "33665f76",
   "metadata": {},
   "outputs": [],
   "source": [
    "nlp = spacy.load(\"da_core_news_lg\")\n",
    "\n",
    "def lemmatize_text(text):\n",
    "    doc = nlp(text)\n",
    "    return \" \".join([token.lemma_ for token in doc])\n",
    "\n",
    "books_df[\"lemmatized_content\"] = books_df[\"content\"].apply(lemmatize_text)\n",
    "\n",
    "# Dump the lemmatized content to a csv \n",
    "books_df.to_csv(\"lemmatized_dataset_book.csv\", index=False)"
   ]
  },
  {
   "cell_type": "code",
   "execution_count": 7,
   "id": "1a800af8",
   "metadata": {},
   "outputs": [
    {
     "name": "stdout",
     "output_type": "stream",
     "text": [
      "               word  frequency\n",
      "0              synd        335\n",
      "1             synde        323\n",
      "2        hærskarers        244\n",
      "3            salomo        242\n",
      "4               ark        224\n",
      "5              jesu        175\n",
      "6            kristi        152\n",
      "7   åbenbaringstelt        150\n",
      "8        brændoffer        137\n",
      "9             sekel        125\n",
      "10          hellige        125\n",
      "11       fædrenehus        118\n",
      "12           trælle        116\n",
      "13          således        111\n",
      "14          arvelod        108\n",
      "15           legeme         98\n",
      "16          absalom         96\n",
      "17     afgrødeoffer         93\n",
      "18             færd         93\n",
      "19            fyrre         92\n"
     ]
    }
   ],
   "source": [
    "from sklearn.feature_extraction.text import CountVectorizer\n",
    "\n",
    "# Ingen stopord for denne analyse\n",
    "cv = CountVectorizer(stop_words=None)\n",
    "\n",
    "# Saml tekst for hver udgave\n",
    "bible_1992 = \" \".join(books_df[books_df[\"edition\"] == \"1992\"][\"lemmatized_content\"].values.tolist())\n",
    "bible_2020 = \" \".join(books_df[books_df[\"edition\"] == \"2020\"][\"lemmatized_content\"].values.tolist())\n",
    "\n",
    "# Beregn term frequency for hver udgave\n",
    "term_frequency_1992 = cv.fit_transform([bible_1992])\n",
    "term_frequency_df_1992 = pd.DataFrame(term_frequency_1992.todense(), columns=cv.get_feature_names_out())\n",
    "\n",
    "term_frequency_2020 = cv.fit_transform([bible_2020])\n",
    "term_frequency_df_2020 = pd.DataFrame(term_frequency_2020.todense(), columns=cv.get_feature_names_out())\n",
    "\n",
    "# Find alle ord i 1992, som ikke findes i 2020\n",
    "most_frequent_excluded_1992 = []\n",
    "\n",
    "for ix, freq in term_frequency_df_1992.T.sort_values(by=0, ascending=False).iterrows():\n",
    "    if ix not in term_frequency_df_2020.columns:\n",
    "        most_frequent_excluded_1992.append((ix, freq[0]))\n",
    "\n",
    "# Konverter til DataFrame for nemmere håndtering og evt. eksport\n",
    "excluded_words_df = pd.DataFrame(most_frequent_excluded_1992, columns=[\"word\", \"frequency\"])\n",
    "\n",
    "#print(f\"Antal ord i 1992, som ikke findes i 2020: {len(excluded_words_df)}\")\n",
    "print(excluded_words_df.head(20))  # Vis de 20 hyppigste som eksempel\n",
    "\n",
    "excluded_words_df = excluded_words_df.sort_values(by=\"frequency\", ascending=False)\n",
    "\n",
    "# Gem til CSV\n",
    "excluded_words_df.to_csv(\"excluded_words_1992_full_list.csv\", index=False)\n",
    "\n",
    "#NB - due to some inaccuracies in the lemmatization we have manually checked the list which makes a different ranking: See the Appendices PDF-file"
   ]
  },
  {
   "cell_type": "code",
   "execution_count": 8,
   "id": "fe475a9f",
   "metadata": {},
   "outputs": [
    {
     "name": "stdout",
     "output_type": "stream",
     "text": [
      "                 word  frequency\n",
      "0              afsted        409\n",
      "1              selvom        384\n",
      "2             salomon        311\n",
      "3             nordrig        237\n",
      "4               meter        169\n",
      "5              sydrig        148\n",
      "6             absalon        110\n",
      "7          respektere        102\n",
      "8          judastamme         95\n",
      "9              præcis         92\n",
      "10           sydriget         70\n",
      "11            mirakle         69\n",
      "12            stamfar         65\n",
      "13         nogensinde         65\n",
      "14                sex         62\n",
      "15              snyde         56\n",
      "16              liter         54\n",
      "17           invitere         54\n",
      "18            fejlfri         50\n",
      "19  nordisraelitterne         48\n"
     ]
    }
   ],
   "source": [
    "from sklearn.feature_extraction.text import CountVectorizer\n",
    "import pandas as pd\n",
    "\n",
    "# Ingen stopord for denne analyse\n",
    "cv = CountVectorizer(stop_words=None)\n",
    "\n",
    "# Saml tekst for hver udgave\n",
    "bible_1992 = \" \".join(books_df[books_df[\"edition\"] == \"1992\"][\"lemmatized_content\"].values.tolist())\n",
    "bible_2020 = \" \".join(books_df[books_df[\"edition\"] == \"2020\"][\"lemmatized_content\"].values.tolist())\n",
    "\n",
    "# Beregn term frequency for hver udgave\n",
    "term_frequency_1992 = cv.fit_transform([bible_1992])\n",
    "term_frequency_df_1992 = pd.DataFrame(term_frequency_1992.todense(), columns=cv.get_feature_names_out())\n",
    "\n",
    "term_frequency_2020 = cv.fit_transform([bible_2020])\n",
    "term_frequency_df_2020 = pd.DataFrame(term_frequency_2020.todense(), columns=cv.get_feature_names_out())\n",
    "\n",
    "# Find alle ord i 2020, som ikke findes i 1992\n",
    "most_frequent_new_2020 = []\n",
    "\n",
    "for ix, freq in term_frequency_df_2020.T.sort_values(by=0, ascending=False).iterrows():\n",
    "    if ix not in term_frequency_df_1992.columns:\n",
    "        most_frequent_new_2020.append((ix, freq[0]))\n",
    "\n",
    "# Konverter til DataFrame og sorter efter hyppighed\n",
    "new_words_df = pd.DataFrame(most_frequent_new_2020, columns=[\"word\", \"frequency\"])\n",
    "new_words_df = new_words_df.sort_values(by=\"frequency\", ascending=False)\n",
    "\n",
    "#print(f\"Antal ord i 2020, som ikke findes i 1992: {len(new_words_df)}\")\n",
    "print(new_words_df.head(20))  # Vis de 20 hyppigste som eksempel\n",
    "\n",
    "# Gem til CSV\n",
    "new_words_df.to_csv(\"new_words_2020_full_list.csv\", index=False)"
   ]
  }
 ],
 "metadata": {
  "kernelspec": {
   "display_name": "bib2020venv",
   "language": "python",
   "name": "python3"
  },
  "language_info": {
   "codemirror_mode": {
    "name": "ipython",
    "version": 3
   },
   "file_extension": ".py",
   "mimetype": "text/x-python",
   "name": "python",
   "nbconvert_exporter": "python",
   "pygments_lexer": "ipython3",
   "version": "3.11.5"
  }
 },
 "nbformat": 4,
 "nbformat_minor": 5
}
