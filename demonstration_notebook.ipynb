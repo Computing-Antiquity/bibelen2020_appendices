{
 "cells": [
  {
   "cell_type": "code",
   "execution_count": null,
   "id": "8d2be019",
   "metadata": {},
   "outputs": [],
   "source": [
    "###demonstration notebook for the article \"Computing Danish Bible Translations: A Stylometric Analysis of Bibelen 2020 Compared with DO92 - Christian Houth Vrangbæk, Kasper Bro Larsen, Eva Elisabeth Houth Vrangbæk and Sophie Robert-Hayek\"\"\n",
    "### Notebook Produced by Christian Houth Vrangbæk and Sophie Robert-Hayek\n"
   ]
  },
  {
   "cell_type": "code",
   "execution_count": null,
   "id": "034e08de",
   "metadata": {},
   "outputs": [],
   "source": [
    "#Load in the texts \n",
    "# due to Copyright restrictions, the texts are not included in this repository\n",
    "\n",
    "import pandas as pd\n",
    "\n",
    "from glob import glob\n",
    "\n",
    "books = []\n",
    "\n",
    "\n",
    "for book in glob(\"./data1_nopunct/books/*/*/*.txt\"):\n",
    "    book_type = book.split(\"/\")[-2].strip()\n",
    "    book_translator = book.split(\"/\")[-3].strip()\n",
    "    book_name = book.split(\"/\")[-1].split(\".\")[0].replace(book_translator, \"\").strip()\n",
    "    with open(book, \"r\") as f:\n",
    "        book_content = f.read().replace(\"\\n\", \" \").strip()\n",
    "    books.append({\n",
    "        \"type\": book_type,\n",
    "        \"name\": book_name,\n",
    "        \"translator\": book_translator,\n",
    "        \"content\": book_content\n",
    "    })\n",
    "\n"
   ]
  },
  {
   "cell_type": "code",
   "execution_count": null,
   "id": "e9f30c46",
   "metadata": {},
   "outputs": [],
   "source": [
    "##Length and Vocabulary Analyses"
   ]
  },
  {
   "cell_type": "code",
   "execution_count": 7,
   "id": "9a92f920",
   "metadata": {},
   "outputs": [
    {
     "name": "stdout",
     "output_type": "stream",
     "text": [
      "===== 1992 total number of tokens =====\n",
      "665987\n",
      "===== 2020 total number of tokens =====\n",
      "652060\n"
     ]
    }
   ],
   "source": [
    "## Total token count for Table 2\n",
    "\n",
    "\n",
    "\n",
    "book_df = pd.DataFrame(books)\n",
    "\n",
    "# Dataframe contains the number of tokens per book\n",
    "book_df = book_df.assign(count_tokens = pd.DataFrame(books).content.apply(lambda x: len(x.split(\" \"))))\n",
    "\n",
    "# Sum the total number of tokens per translator\n",
    "print(\"===== 1992 total number of tokens =====\")\n",
    "print(book_df[book_df.translator == \"1992\"].count_tokens.sum())\n",
    "print(\"===== 2020 total number of tokens =====\")\n",
    "print(book_df[book_df.translator == \"2020\"].count_tokens.sum())\n",
    "\n",
    "# Difference in number of tokens per book\n",
    "# If the value is positive, the 1992 translation has more tokens than the 2020 translation\n",
    "# If the value is negative, the 2020 translation has more tokens than the 1992 translation\n",
    "diff_tokens = pd.DataFrame(book_df[book_df.translator == \"1992\"].sort_values(\"name\").count_tokens.values - book_df[book_df.translator == \"2020\"].sort_values(\"name\").count_tokens.values)\n",
    "diff_tokens = diff_tokens.assign(name = book_df[book_df.translator == \"1992\"].sort_values(\"name\").name.values)\n",
    "diff_tokens.columns = [\"1992 translation - 2020 translation\", \"name\"]"
   ]
  },
  {
   "cell_type": "code",
   "execution_count": null,
   "id": "bdaec226",
   "metadata": {},
   "outputs": [],
   "source": [
    "## Token counts for Table 3 and NT/OT Token counts in Table 2\n",
    "\n",
    "book_df[\"token_count\"] = book_df[\"content\"].apply(lambda x: len(x.split()))"
   ]
  },
  {
   "cell_type": "code",
   "execution_count": null,
   "id": "7c9d880a",
   "metadata": {},
   "outputs": [
    {
     "name": "stdout",
     "output_type": "stream",
     "text": [
      "OT1992\n",
      "NT1992\n",
      "OT2020\n",
      "NT2020\n",
      "493479\n",
      "169998\n",
      "463743\n",
      "188232\n",
      "translator   1992   2020  diff_1992_minus_2020  diff_percent_1992_vs_2020\n",
      "name                                                                     \n",
      "26_Ezek     30664  24956                  5708                  22.872255\n",
      "03_Lev      19765  15124                  4641                  30.686326\n",
      "04_Num      22849  18252                  4597                  25.186281\n",
      "02_Exod     26617  22641                  3976                  17.561062\n",
      "05_Deut     26694  23245                  3449                  14.837599\n",
      "...           ...    ...                   ...                        ...\n",
      "18_Job      15717  17647                 -1930                 -10.936703\n",
      "45_Rom       8941  10893                 -1952                 -17.919765\n",
      "42_Luke     23962  25941                 -1979                  -7.628850\n",
      "44_Acts     22513  24886                 -2373                  -9.535482\n",
      "23_Isa      29399  32268                 -2869                  -8.891162\n",
      "\n",
      "[66 rows x 4 columns]\n"
     ]
    }
   ],
   "source": [
    "OT1992 = book_df[(book_df[\"type\"]==\"GT\") & (book_df[\"translator\"]==\"1992\")][\"token_count\"].sum()\n",
    "NT1992 = book_df[(book_df[\"type\"]==\"NT\") & (book_df[\"translator\"]==\"1992\")][\"token_count\"].sum()\n",
    "OT2020 = book_df[(book_df[\"type\"]==\"GT\") & (book_df[\"translator\"]==\"2020\")][\"token_count\"].sum()\n",
    "NT2020 = book_df[(book_df[\"type\"]==\"NT\") & (book_df[\"translator\"]==\"2020\")][\"token_count\"].sum()\n",
    "\n",
    "print(\"OT1992\")\n",
    "print(\"NT1992\")\n",
    "print(\"OT2020\")\n",
    "print(\"NT2020\")\n",
    "print(OT1992)\n",
    "print(NT1992)\n",
    "print(OT2020)\n",
    "print(NT2020)\n",
    "\n",
    "token_pivot = book_df.pivot(index=\"name\", columns=\"translator\", values=\"token_count\")\n",
    "token_pivot[\"diff_1992_minus_2020\"] = token_pivot[\"1992\"] - token_pivot[\"2020\"]\n",
    "token_pivot[\"diff_percent_1992_vs_2020\"] = 100 * token_pivot[\"diff_1992_minus_2020\"] / token_pivot[\"2020\"]\n",
    "token_pivot_sorted = token_pivot.sort_values(by=\"diff_1992_minus_2020\", ascending=False)\n",
    "print(token_pivot_sorted)\n",
    "token_pivot_sorted.to_csv(\"token_counts_sorted.csv\")\n",
    "\n",
    "\n"
   ]
  },
  {
   "cell_type": "code",
   "execution_count": null,
   "id": "7d2a4562",
   "metadata": {},
   "outputs": [],
   "source": [
    "## Vocabulary Richness\n"
   ]
  },
  {
   "cell_type": "code",
   "execution_count": null,
   "id": "1c47ba06",
   "metadata": {},
   "outputs": [],
   "source": [
    "# Perform the lemmatization using Danish Spacy model\n",
    "# First, you need to install the large model of Danish Spacy, running\n",
    "# python -m spacy download da_core_news_lg\n",
    "# in the terminal\n",
    "#restart the notebook after installing the model\n",
    "# Run the notebook from the cell below to continue"
   ]
  },
  {
   "cell_type": "code",
   "execution_count": 3,
   "id": "13a6c9cd",
   "metadata": {},
   "outputs": [],
   "source": [
    "import spacy\n",
    "import pandas as pd\n",
    "from glob import glob\n",
    "\n",
    "books = []\n",
    "\n",
    "\n",
    "for book in glob(\"./data1_nopunct/books/*/*/*.txt\"):\n",
    "    book_type = book.split(\"/\")[-2].strip()\n",
    "    book_translator = book.split(\"/\")[-3].strip()\n",
    "    book_name = book.split(\"/\")[-1].split(\".\")[0].replace(book_translator, \"\").strip()\n",
    "    with open(book, \"r\") as f:\n",
    "        book_content = f.read().replace(\"\\n\", \" \").strip()\n",
    "    books.append({\n",
    "        \"type\": book_type,\n",
    "        \"name\": book_name,\n",
    "        \"translator\": book_translator,\n",
    "        \"content\": book_content\n",
    "    })\n",
    "\n",
    "book_df = pd.DataFrame(books)\n",
    "\n",
    "\n",
    "\n",
    "nlp = spacy.load(\"da_core_news_lg\")\n",
    "\n",
    "def lemmatize_text(text):\n",
    "    doc = nlp(text)\n",
    "    return \" \".join([token.lemma_ for token in doc])\n",
    "\n",
    "book_df[\"lemmatized_content\"] = book_df[\"content\"].apply(lemmatize_text)"
   ]
  },
  {
   "cell_type": "code",
   "execution_count": null,
   "id": "e8f60fa3",
   "metadata": {},
   "outputs": [],
   "source": [
    "## Unique number of lemmas per book"
   ]
  },
  {
   "cell_type": "code",
   "execution_count": 4,
   "id": "3c0cc14f",
   "metadata": {},
   "outputs": [
    {
     "name": "stdout",
     "output_type": "stream",
     "text": [
      "         name translator  count_lemmas\n",
      "0     21_Eccl       1992           820\n",
      "1     26_Ezek       1992          2474\n",
      "2     12_2Kgs       1992          1982\n",
      "3      04_Num       1992          2085\n",
      "4      39_Mal       1992           419\n",
      "..        ...        ...           ...\n",
      "127  63_2John       2020           135\n",
      "128   41_Mark       2020          1509\n",
      "129   55_2Tim       2020           506\n",
      "130  62_1John       2020           344\n",
      "131   57_Phlm       2020           186\n",
      "\n",
      "[132 rows x 3 columns]\n"
     ]
    }
   ],
   "source": [
    "book_df = book_df.assign(count_lemmas = book_df.lemmatized_content.apply(lambda x: len(set(x.split(\" \")))))\n",
    "print(book_df[[\"name\", \"translator\", \"count_lemmas\"]])"
   ]
  },
  {
   "cell_type": "code",
   "execution_count": null,
   "id": "25658348",
   "metadata": {},
   "outputs": [],
   "source": [
    "#Table 5 Calculations"
   ]
  },
  {
   "cell_type": "code",
   "execution_count": 5,
   "id": "9bfcf580",
   "metadata": {},
   "outputs": [
    {
     "name": "stdout",
     "output_type": "stream",
     "text": [
      "===== 1992 total number of lemmas =====\n",
      "16194\n",
      "===== 2020 total number of lemmas =====\n",
      "14329\n",
      "===\n",
      "Difference in unique lemmas between 1992 and 2020 over all the bible\n",
      "1865\n"
     ]
    }
   ],
   "source": [
    "## Calculation for Table 5\n",
    "# Unique number of lemmas across all the books\n",
    "print(\"===== 1992 total number of lemmas =====\")\n",
    "print(len(set(\" \".join(book_df[book_df.translator == \"1992\"].lemmatized_content).split(\" \"))))\n",
    "\n",
    "print(\"===== 2020 total number of lemmas =====\")\n",
    "print(len(set(\" \".join(book_df[book_df.translator == \"2020\"].lemmatized_content).split(\" \"))))\n",
    "\n",
    "print(\"===\")\n",
    "print(\"Difference in unique lemmas between 1992 and 2020 over all the bible\")\n",
    "print(len(set(\" \".join(book_df[book_df.translator == \"1992\"].lemmatized_content).split(\" \"))) - len(set(\" \".join(book_df[book_df.translator == \"2020\"].lemmatized_content).split(\" \"))))"
   ]
  },
  {
   "cell_type": "code",
   "execution_count": null,
   "id": "11a7d2ba",
   "metadata": {},
   "outputs": [
    {
     "name": "stdout",
     "output_type": "stream",
     "text": [
      "GT1992: 13668\n",
      "NT1992: 6274\n",
      "GT2020: 12507\n",
      "NT2020: 5503\n"
     ]
    }
   ],
   "source": [
    "#word types OT1992, NT1992, OT2020, NT2020\n",
    "def all_unique_lemmas(series):\n",
    "    # Collects all lemmas across the books\n",
    "    lemma_set = set()\n",
    "    for text in series:\n",
    "        for lemma in text.split():\n",
    "            lemma_set.add(lemma.lower())\n",
    "    return len(lemma_set)\n",
    "\n",
    "groups = {\n",
    "    \"GT1992\":  book_df.query('type == \"GT\" and translator == \"1992\"')[\"lemmatized_content\"],\n",
    "    \"NT1992\":  book_df.query('type == \"NT\" and translator == \"1992\"')[\"lemmatized_content\"],\n",
    "    \"GT2020\":  book_df.query('type == \"GT\" and translator == \"2020\"')[\"lemmatized_content\"],\n",
    "    \"NT2020\":  book_df.query('type == \"NT\" and translator == \"2020\"')[\"lemmatized_content\"],\n",
    "}\n",
    "\n",
    "for k, s in groups.items():\n",
    "    print(f\"{k}: {all_unique_lemmas(s)}\")"
   ]
  },
  {
   "cell_type": "code",
   "execution_count": null,
   "id": "039a6a74",
   "metadata": {},
   "outputs": [
    {
     "name": "stdout",
     "output_type": "stream",
     "text": [
      "OT1992\n",
      "NT1992\n",
      "OT2020\n",
      "NT2020\n",
      "55813\n",
      "22389\n",
      "53296\n",
      "21952\n",
      "translator  1992  2020  diff_1992_minus_2020  diff_percent_1992_vs_2020\n",
      "name                                                                   \n",
      "05_Deut     2310  1985                   325                  16.372796\n",
      "18_Job      2156  1897                   259                  13.653137\n",
      "10_2Sam     1947  1743                   204                  11.703959\n",
      "44_Acts     2260  2068                   192                   9.284333\n",
      "11_1Kgs     2090  1900                   190                  10.000000\n",
      "...          ...   ...                   ...                        ...\n",
      "32_Jonah     310   361                   -51                 -14.127424\n",
      "07_Judg     1760  1833                   -73                  -3.982542\n",
      "66_Rev      1221  1310                   -89                  -6.793893\n",
      "28_Hos       904   996                   -92                  -9.236948\n",
      "17_Esth      758   855                   -97                 -11.345029\n",
      "\n",
      "[66 rows x 4 columns]\n"
     ]
    }
   ],
   "source": [
    "#calculations for Table 6 and Table 7\n",
    "# NB: In the article we switched positive and negative values in order to highlight e.g. that there are 325 less words in Deuteronomy in Bibelen 2020 than in DO92\n",
    "\n",
    "\n",
    "\n",
    "OT1992 = book_df[(book_df[\"type\"]==\"GT\") & (book_df[\"translator\"]==\"1992\")][\"count_lemmas\"].sum()\n",
    "NT1992 = book_df[(book_df[\"type\"]==\"NT\") & (book_df[\"translator\"]==\"1992\")][\"count_lemmas\"].sum()\n",
    "OT2020 = book_df[(book_df[\"type\"]==\"GT\") & (book_df[\"translator\"]==\"2020\")][\"count_lemmas\"].sum()\n",
    "NT2020 = book_df[(book_df[\"type\"]==\"NT\") & (book_df[\"translator\"]==\"2020\")][\"count_lemmas\"].sum()\n",
    "\n",
    "print(\"OT1992\")\n",
    "print(\"NT1992\")\n",
    "print(\"OT2020\")\n",
    "print(\"NT2020\")\n",
    "print(OT1992)\n",
    "print(NT1992)\n",
    "print(OT2020)\n",
    "print(NT2020)\n",
    "\n",
    "token_pivot = book_df.pivot(index=\"name\", columns=\"translator\", values=\"count_lemmas\")\n",
    "token_pivot[\"diff_1992_minus_2020\"] = token_pivot[\"1992\"] - token_pivot[\"2020\"]\n",
    "token_pivot[\"diff_percent_1992_vs_2020\"] = 100 * token_pivot[\"diff_1992_minus_2020\"] / token_pivot[\"2020\"]\n",
    "token_pivot_sorted = token_pivot.sort_values(by=\"diff_1992_minus_2020\", ascending=False)\n",
    "# Rund procentkolonnen til 2 decimaler\n",
    "token_pivot[\"diff_percent_1992_vs_2020\"] = token_pivot[\"diff_percent_1992_vs_2020\"].round(2)\n",
    "print(token_pivot_sorted)\n",
    "token_pivot_sorted.to_csv(\"lemma_counts_sorted.csv\")\n",
    "\n"
   ]
  },
  {
   "cell_type": "code",
   "execution_count": 10,
   "id": "3eb012a2",
   "metadata": {},
   "outputs": [
    {
     "name": "stdout",
     "output_type": "stream",
     "text": [
      "translator  1992  2020  diff_1992_minus_2020  diff_percent_1992_vs_2020\n",
      "name                                                                   \n",
      "05_Deut     2310  1985                   325                      16.37\n",
      "16_Neh      1546  1360                   186                      13.68\n",
      "18_Job      2156  1897                   259                      13.65\n",
      "10_2Sam     1947  1743                   204                      11.70\n",
      "58_Heb      1185  1072                   113                      10.54\n",
      "...          ...   ...                   ...                        ...\n",
      "28_Hos       904   996                   -92                      -9.24\n",
      "57_Phlm      168   186                   -18                      -9.68\n",
      "62_1John     305   344                   -39                     -11.34\n",
      "17_Esth      758   855                   -97                     -11.35\n",
      "32_Jonah     310   361                   -51                     -14.13\n",
      "\n",
      "[66 rows x 4 columns]\n"
     ]
    }
   ],
   "source": [
    "token_pivot_sorted_perc = token_pivot.sort_values(by=\"diff_percent_1992_vs_2020\", ascending=False)\n",
    "print(token_pivot_sorted_perc)\n",
    "token_pivot_sorted_perc.to_csv(\"lemma_counts_sorted_perc.csv\")"
   ]
  },
  {
   "cell_type": "code",
   "execution_count": null,
   "id": "7aa38892",
   "metadata": {},
   "outputs": [],
   "source": [
    "## Type-Token Ratio (TTR) calculations for Figure 1"
   ]
  },
  {
   "cell_type": "code",
   "execution_count": 11,
   "id": "e4708cff",
   "metadata": {},
   "outputs": [],
   "source": [
    "book_df = book_df.assign(ttr = book_df.lemmatized_content.apply(lambda x: len(set(x.split(\" \"))))/book_df.lemmatized_content.apply(lambda x: len(x.split(\" \"))))"
   ]
  },
  {
   "cell_type": "code",
   "execution_count": 12,
   "id": "3058e2b8",
   "metadata": {},
   "outputs": [
    {
     "data": {
      "text/html": [
       "<div>\n",
       "<style scoped>\n",
       "    .dataframe tbody tr th:only-of-type {\n",
       "        vertical-align: middle;\n",
       "    }\n",
       "\n",
       "    .dataframe tbody tr th {\n",
       "        vertical-align: top;\n",
       "    }\n",
       "\n",
       "    .dataframe thead th {\n",
       "        text-align: right;\n",
       "    }\n",
       "</style>\n",
       "<table border=\"1\" class=\"dataframe\">\n",
       "  <thead>\n",
       "    <tr style=\"text-align: right;\">\n",
       "      <th></th>\n",
       "      <th>1992 translation - 2020 translation variation in TTR</th>\n",
       "      <th>name</th>\n",
       "      <th>book_type</th>\n",
       "    </tr>\n",
       "  </thead>\n",
       "  <tbody>\n",
       "    <tr>\n",
       "      <th>0</th>\n",
       "      <td>0.002162</td>\n",
       "      <td>01_Gen</td>\n",
       "      <td>GT</td>\n",
       "    </tr>\n",
       "    <tr>\n",
       "      <th>1</th>\n",
       "      <td>-0.007843</td>\n",
       "      <td>02_Exod</td>\n",
       "      <td>GT</td>\n",
       "    </tr>\n",
       "    <tr>\n",
       "      <th>2</th>\n",
       "      <td>-0.016055</td>\n",
       "      <td>03_Lev</td>\n",
       "      <td>GT</td>\n",
       "    </tr>\n",
       "    <tr>\n",
       "      <th>3</th>\n",
       "      <td>-0.023071</td>\n",
       "      <td>04_Num</td>\n",
       "      <td>GT</td>\n",
       "    </tr>\n",
       "    <tr>\n",
       "      <th>4</th>\n",
       "      <td>0.000575</td>\n",
       "      <td>05_Deut</td>\n",
       "      <td>GT</td>\n",
       "    </tr>\n",
       "    <tr>\n",
       "      <th>...</th>\n",
       "      <td>...</td>\n",
       "      <td>...</td>\n",
       "      <td>...</td>\n",
       "    </tr>\n",
       "    <tr>\n",
       "      <th>61</th>\n",
       "      <td>-0.005230</td>\n",
       "      <td>62_1John</td>\n",
       "      <td>NT</td>\n",
       "    </tr>\n",
       "    <tr>\n",
       "      <th>62</th>\n",
       "      <td>-0.004071</td>\n",
       "      <td>63_2John</td>\n",
       "      <td>NT</td>\n",
       "    </tr>\n",
       "    <tr>\n",
       "      <th>63</th>\n",
       "      <td>0.051896</td>\n",
       "      <td>64_3John</td>\n",
       "      <td>NT</td>\n",
       "    </tr>\n",
       "    <tr>\n",
       "      <th>64</th>\n",
       "      <td>0.052374</td>\n",
       "      <td>65_Jude</td>\n",
       "      <td>NT</td>\n",
       "    </tr>\n",
       "    <tr>\n",
       "      <th>65</th>\n",
       "      <td>-0.005005</td>\n",
       "      <td>66_Rev</td>\n",
       "      <td>NT</td>\n",
       "    </tr>\n",
       "  </tbody>\n",
       "</table>\n",
       "<p>66 rows × 3 columns</p>\n",
       "</div>"
      ],
      "text/plain": [
       "    1992 translation - 2020 translation variation in TTR      name book_type\n",
       "0                                            0.002162       01_Gen        GT\n",
       "1                                           -0.007843      02_Exod        GT\n",
       "2                                           -0.016055       03_Lev        GT\n",
       "3                                           -0.023071       04_Num        GT\n",
       "4                                            0.000575      05_Deut        GT\n",
       "..                                                ...          ...       ...\n",
       "61                                          -0.005230     62_1John        NT\n",
       "62                                          -0.004071     63_2John        NT\n",
       "63                                           0.051896     64_3John        NT\n",
       "64                                           0.052374      65_Jude        NT\n",
       "65                                          -0.005005       66_Rev        NT\n",
       "\n",
       "[66 rows x 3 columns]"
      ]
     },
     "execution_count": 12,
     "metadata": {},
     "output_type": "execute_result"
    }
   ],
   "source": [
    "# Compute the difference in TTR\n",
    "diff_ttr = pd.DataFrame(book_df[book_df.translator == \"1992\"].sort_values(\"name\").ttr.values - book_df[book_df.translator == \"2020\"].sort_values(\"name\").ttr.values)\n",
    "diff_ttr = diff_ttr.assign(name = book_df[book_df.translator == \"1992\"].sort_values(\"name\").name.values)\n",
    "diff_ttr.columns = [\"1992 translation - 2020 translation variation in TTR\", \"name\"]\n",
    "diff_ttr = diff_ttr.assign(book_type = book_df[book_df.translator == \"1992\"].sort_values(\"name\").type.values)\n",
    "diff_ttr"
   ]
  },
  {
   "cell_type": "code",
   "execution_count": 13,
   "id": "7d570535",
   "metadata": {},
   "outputs": [],
   "source": [
    "diff_ttr.sort_values(by=\"1992 translation - 2020 translation variation in TTR\", ascending=False).to_csv(\"diff_ttr_sorted.csv\", index=True)"
   ]
  },
  {
   "cell_type": "code",
   "execution_count": 14,
   "id": "3b4612d5",
   "metadata": {},
   "outputs": [],
   "source": [
    "diff_ttr.sort_values(by=\"1992 translation - 2020 translation variation in TTR\", ascending=False).to_csv(\"diff_ttr_sorted.csv\", index=True)"
   ]
  },
  {
   "cell_type": "code",
   "execution_count": null,
   "id": "9bee64c3",
   "metadata": {},
   "outputs": [],
   "source": [
    "# Figure 1 Calculation\n"
   ]
  },
  {
   "cell_type": "code",
   "execution_count": null,
   "id": "dc2f9f74",
   "metadata": {},
   "outputs": [
    {
     "data": {
      "image/png": "[encoded data removed]",
      "text/plain": [
       "<Figure size 1600x300 with 2 Axes>"
      ]
     },
     "metadata": {},
     "output_type": "display_data"
    }
   ],
   "source": [
    "\n",
    "from matplotlib import pyplot as plt\n",
    "import seaborn as sns\n",
    "import re\n",
    "\n",
    "plt.figure(figsize=(16, 3))\n",
    "\n",
    "sorted_df_distances = diff_ttr.sort_values(\"1992 translation - 2020 translation variation in TTR\", ascending=False).copy()\n",
    "\n",
    "sorted_df_distances[\"name_clean\"] = sorted_df_distances[\"name\"].apply(lambda s: re.sub(r\"^\\d+_\", \"\", s))\n",
    "\n",
    "sorted_df_distances[\"flipped_ttr\"] = -sorted_df_distances[\"1992 translation - 2020 translation variation in TTR\"]\n",
    "\n",
    "ax = sns.heatmap(\n",
    "    sorted_df_distances[\"flipped_ttr\"].values.reshape(1, -1),\n",
    "    cmap=\"magma\",\n",
    "    xticklabels=sorted_df_distances.name_clean,\n",
    "    yticklabels=False,\n",
    "    cbar=True,\n",
    "    cbar_kws={\"label\": \"Difference in TTR\"}\n",
    ")\n",
    "\n",
    "ax.collections[0].colorbar.ax.invert_yaxis()  # [1][6][7]\n",
    "\n",
    "ax.set_xticklabels(ax.get_xticklabels(), fontsize=14, rotation=90)\n",
    "\n",
    "for tick_label, book_type in zip(ax.axes.get_xticklabels(), sorted_df_distances.book_type):\n",
    "    if book_type == \"NT\":\n",
    "        tick_label.set_color(\"blue\")\n",
    "    else:\n",
    "        tick_label.set_color(\"red\")\n",
    "\n",
    "plt.tight_layout()\n",
    "plt.show()"
   ]
  },
  {
   "cell_type": "code",
   "execution_count": null,
   "id": "92b4ea85",
   "metadata": {},
   "outputs": [],
   "source": [
    "## Omitted and Newly Added Words\n",
    "\n",
    "#Restart notebook kernel and run from here"
   ]
  },
  {
   "cell_type": "code",
   "execution_count": 1,
   "id": "c4eef028",
   "metadata": {},
   "outputs": [],
   "source": [
    "\n",
    "\n",
    "from glob import glob\n",
    "\n",
    "books = []\n",
    "\n",
    "for book in glob(\"./data1_nopunct/books/*/*/*.txt\"):\n",
    "    book_type = book.split(\"/\")[-2].strip()\n",
    "    book_edition = book.split(\"/\")[-3].strip()\n",
    "    book_name = book.split(\"/\")[-1].split(\".\")[0].replace(book_edition, \"\").strip()\n",
    "    with open(book, \"r\") as f:\n",
    "        book_content = f.read().replace(\"\\n\", \" \").strip()\n",
    "    books.append({\n",
    "        \"type\": book_type,\n",
    "        \"name\": book_name,\n",
    "        \"edition\": book_edition,\n",
    "        \"content\": book_content\n",
    "    })\n",
    "\n"
   ]
  },
  {
   "cell_type": "code",
   "execution_count": 2,
   "id": "7d50b7aa",
   "metadata": {},
   "outputs": [],
   "source": [
    "import pandas as pd\n",
    "import spacy\n",
    "\n",
    "books_df = pd.DataFrame(books)"
   ]
  },
  {
   "cell_type": "code",
   "execution_count": 4,
   "id": "33665f76",
   "metadata": {},
   "outputs": [],
   "source": [
    "nlp = spacy.load(\"da_core_news_lg\")\n",
    "\n",
    "def lemmatize_text(text):\n",
    "    doc = nlp(text)\n",
    "    return \" \".join([token.lemma_ for token in doc])\n",
    "\n",
    "books_df[\"lemmatized_content\"] = books_df[\"content\"].apply(lemmatize_text)\n",
    "\n",
    "# Dump the lemmatized content to a csv \n",
    "books_df.to_csv(\"lemmatized_dataset_book.csv\", index=False)"
   ]
  },
  {
   "cell_type": "code",
   "execution_count": null,
   "id": "1a800af8",
   "metadata": {},
   "outputs": [
    {
     "name": "stdout",
     "output_type": "stream",
     "text": [
      "               word  frequency\n",
      "0              synd        335\n",
      "1             synde        323\n",
      "2        hærskarers        244\n",
      "3            salomo        242\n",
      "4               ark        224\n",
      "5              jesu        175\n",
      "6            kristi        152\n",
      "7   åbenbaringstelt        150\n",
      "8        brændoffer        137\n",
      "9             sekel        125\n",
      "10          hellige        125\n",
      "11       fædrenehus        118\n",
      "12           trælle        116\n",
      "13          således        111\n",
      "14          arvelod        108\n",
      "15           legeme         98\n",
      "16          absalom         96\n",
      "17     afgrødeoffer         93\n",
      "18             færd         93\n",
      "19            fyrre         92\n"
     ]
    }
   ],
   "source": [
    "from sklearn.feature_extraction.text import CountVectorizer\n",
    "\n",
    "cv = CountVectorizer(stop_words=None)\n",
    "\n",
    "bible_1992 = \" \".join(books_df[books_df[\"edition\"] == \"1992\"][\"lemmatized_content\"].values.tolist())\n",
    "bible_2020 = \" \".join(books_df[books_df[\"edition\"] == \"2020\"][\"lemmatized_content\"].values.tolist())\n",
    "\n",
    "term_frequency_1992 = cv.fit_transform([bible_1992])\n",
    "term_frequency_df_1992 = pd.DataFrame(term_frequency_1992.todense(), columns=cv.get_feature_names_out())\n",
    "\n",
    "term_frequency_2020 = cv.fit_transform([bible_2020])\n",
    "term_frequency_df_2020 = pd.DataFrame(term_frequency_2020.todense(), columns=cv.get_feature_names_out())\n",
    "\n",
    "most_frequent_excluded_1992 = []\n",
    "\n",
    "for ix, freq in term_frequency_df_1992.T.sort_values(by=0, ascending=False).iterrows():\n",
    "    if ix not in term_frequency_df_2020.columns:\n",
    "        most_frequent_excluded_1992.append((ix, freq[0]))\n",
    "\n",
    "excluded_words_df = pd.DataFrame(most_frequent_excluded_1992, columns=[\"word\", \"frequency\"])\n",
    "\n",
    "print(excluded_words_df.head(20)) \n",
    "\n",
    "excluded_words_df = excluded_words_df.sort_values(by=\"frequency\", ascending=False)\n",
    "\n",
    "excluded_words_df.to_csv(\"excluded_words_1992_full_list.csv\", index=False)\n",
    "\n",
    "#NB - due to some inaccuracies in the lemmatization we have manually checked the list which makes a different ranking: See the Appendices PDF-file"
   ]
  },
  {
   "cell_type": "code",
   "execution_count": null,
   "id": "fe475a9f",
   "metadata": {},
   "outputs": [
    {
     "name": "stdout",
     "output_type": "stream",
     "text": [
      "                 word  frequency\n",
      "0              afsted        409\n",
      "1              selvom        384\n",
      "2             salomon        311\n",
      "3             nordrig        237\n",
      "4               meter        169\n",
      "5              sydrig        148\n",
      "6             absalon        110\n",
      "7          respektere        102\n",
      "8          judastamme         95\n",
      "9              præcis         92\n",
      "10           sydriget         70\n",
      "11            mirakle         69\n",
      "12            stamfar         65\n",
      "13         nogensinde         65\n",
      "14                sex         62\n",
      "15              snyde         56\n",
      "16              liter         54\n",
      "17           invitere         54\n",
      "18            fejlfri         50\n",
      "19  nordisraelitterne         48\n"
     ]
    }
   ],
   "source": [
    "from sklearn.feature_extraction.text import CountVectorizer\n",
    "import pandas as pd\n",
    "\n",
    "cv = CountVectorizer(stop_words=None)\n",
    "\n",
    "bible_1992 = \" \".join(books_df[books_df[\"edition\"] == \"1992\"][\"lemmatized_content\"].values.tolist())\n",
    "bible_2020 = \" \".join(books_df[books_df[\"edition\"] == \"2020\"][\"lemmatized_content\"].values.tolist())\n",
    "\n",
    "term_frequency_1992 = cv.fit_transform([bible_1992])\n",
    "term_frequency_df_1992 = pd.DataFrame(term_frequency_1992.todense(), columns=cv.get_feature_names_out())\n",
    "\n",
    "term_frequency_2020 = cv.fit_transform([bible_2020])\n",
    "term_frequency_df_2020 = pd.DataFrame(term_frequency_2020.todense(), columns=cv.get_feature_names_out())\n",
    "\n",
    "most_frequent_new_2020 = []\n",
    "\n",
    "for ix, freq in term_frequency_df_2020.T.sort_values(by=0, ascending=False).iterrows():\n",
    "    if ix not in term_frequency_df_1992.columns:\n",
    "        most_frequent_new_2020.append((ix, freq[0]))\n",
    "\n",
    "new_words_df = pd.DataFrame(most_frequent_new_2020, columns=[\"word\", \"frequency\"])\n",
    "new_words_df = new_words_df.sort_values(by=\"frequency\", ascending=False)\n",
    "\n",
    "print(new_words_df.head(20))  # Vis de 20 hyppigste som eksempel\n",
    "\n",
    "new_words_df.to_csv(\"new_words_2020_full_list.csv\", index=False)"
   ]
  },
  {
   "cell_type": "code",
   "execution_count": null,
   "id": "7ab885c3",
   "metadata": {},
   "outputs": [],
   "source": [
    "## Quantifying the Distance Between the Translations "
   ]
  },
  {
   "cell_type": "code",
   "execution_count": null,
   "id": "1173b270",
   "metadata": {},
   "outputs": [],
   "source": [
    "#Countvectorizer"
   ]
  },
  {
   "cell_type": "code",
   "execution_count": 15,
   "id": "8f99ce43",
   "metadata": {},
   "outputs": [
    {
     "name": "stderr",
     "output_type": "stream",
     "text": [
      "/Users/au256145/bibelen2020_appendices/bib2020venv/lib/python3.11/site-packages/sklearn/feature_extraction/text.py:402: UserWarning: Your stop_words may be inconsistent with your preprocessing. Tokenizing the stop words generated tokens ['bl', 'ca', 'eks', 'pga'] not in stop_words.\n",
      "  warnings.warn(\n"
     ]
    }
   ],
   "source": [
    "from sklearn.feature_extraction.text import CountVectorizer, TfidfVectorizer\n",
    "from sklearn.decomposition import PCA\n",
    "\n",
    "cv = CountVectorizer(stop_words=open(\"List of stop words used in the analyses (Fetched from Bertel Torp)\").read().split(\"\\n\"))\n",
    "pca = PCA(n_components=2)\n",
    "\n",
    "tf = cv.fit_transform(books_df[\"lemmatized_content\"])\n",
    "term_frequency_df = pd.DataFrame(tf.todense(), columns=cv.get_feature_names_out())\n",
    "term_frequency_df[\"type\"] = books_df[\"type\"]\n",
    "term_frequency_df[\"name\"] = books_df[\"name\"]\n",
    "term_frequency_df[\"edition\"] = books_df[\"edition\"]\n",
    "\n",
    "\n",
    "projected_tf = pca.fit_transform(tf.toarray())\n",
    "projected_tf_df = pd.DataFrame(projected_tf, columns=[\"x\", \"y\"])\n",
    "projected_tf_df[\"type\"] = books_df[\"type\"]\n",
    "projected_tf_df[\"name\"] = books_df[\"name\"]\n",
    "projected_tf_df[\"edition\"] = books_df[\"edition\"]"
   ]
  },
  {
   "cell_type": "code",
   "execution_count": 17,
   "id": "1d0cdaa1",
   "metadata": {},
   "outputs": [
    {
     "name": "stdout",
     "output_type": "stream",
     "text": [
      "Average distance between all books in 1992 translation: 239.01106464765505\n",
      "Average distance between all books in 1992 translation (OT): 291.0487047461987\n",
      "Average distance between all books in 1992 translation (NT): 83.5578936062566\n",
      "==\n",
      "Median distance between all books in 1992 translation: 155.4155877240606\n",
      "Median distance between all books in 1992 translation (OT): 274.2586684365332\n",
      "Median distance between all books in 1992 translation (NT): 60.30797990630653\n",
      "======\n",
      "Average distance between all books in 2020 translation: 201.81462342668144\n",
      "Average distance between all books in 2020 translation (OT): 241.96528101571957\n",
      "Average distance between all books in 2020 translation (NT): 116.19406232172035\n",
      "==\n",
      "Median distance between all books in 2020 translation: 147.86781352116049\n",
      "Median distance between all books in 2020 translation (OT): 195.890306514471\n",
      "Median distance between all books in 2020 translation (NT): 84.17983968658454\n"
     ]
    }
   ],
   "source": [
    "from sklearn.metrics import pairwise_distances\n",
    "import numpy as np\n",
    "\n",
    "\n",
    "translation_1992 = projected_tf_df[projected_tf_df[\"edition\"] == \"1992\"].drop(columns=[\"type\", \"name\", \"edition\"])\n",
    "translation_2020 = projected_tf_df[projected_tf_df[\"edition\"] == \"2020\"].drop(columns=[\"type\", \"name\", \"edition\"])\n",
    "\n",
    "print(\"Average distance between all books in 1992 translation:\", pairwise_distances(translation_1992).mean())\n",
    "print(\"Average distance between all books in 1992 translation (OT):\", pairwise_distances(projected_tf_df[(projected_tf_df[\"edition\"] == \"1992\") & (projected_tf_df[\"type\"] == \"GT\")].drop(columns=[\"type\", \"name\", \"edition\"])).mean())\n",
    "print(\"Average distance between all books in 1992 translation (NT):\", pairwise_distances(projected_tf_df[(projected_tf_df[\"edition\"] == \"1992\") & (projected_tf_df[\"type\"] == \"NT\")].drop(columns=[\"type\", \"name\", \"edition\"])).mean())\n",
    "print(\"==\")\n",
    "print(\"Median distance between all books in 1992 translation:\", np.median(pairwise_distances(translation_1992)))\n",
    "print(\"Median distance between all books in 1992 translation (OT):\", np.median(pairwise_distances(projected_tf_df[(projected_tf_df[\"edition\"] == \"1992\") & (projected_tf_df[\"type\"] == \"GT\")].drop(columns=[\"type\", \"name\", \"edition\"]))))\n",
    "print(\"Median distance between all books in 1992 translation (NT):\", np.median(pairwise_distances(projected_tf_df[(projected_tf_df[\"edition\"] == \"1992\") & (projected_tf_df[\"type\"] == \"NT\")].drop(columns=[\"type\", \"name\", \"edition\"]))))\n",
    "\n",
    "print(\"======\")\n",
    "print(\"Average distance between all books in 2020 translation:\", pairwise_distances(translation_2020).mean())\n",
    "print(\"Average distance between all books in 2020 translation (OT):\", pairwise_distances(projected_tf_df[(projected_tf_df[\"edition\"] == \"2020\") & (projected_tf_df[\"type\"] == \"GT\")].drop(columns=[\"type\", \"name\", \"edition\"])).mean())\n",
    "print(\"Average distance between all books in 2020 translation (NT):\", pairwise_distances(projected_tf_df[(projected_tf_df[\"edition\"] == \"2020\") & (projected_tf_df[\"type\"] == \"NT\")].drop(columns=[\"type\", \"name\", \"edition\"])).mean())\n",
    "print(\"==\")\n",
    "print(\"Median distance between all books in 2020 translation:\", np.median(pairwise_distances(translation_2020)))\n",
    "print(\"Median distance between all books in 2020 translation (OT):\", np.median(pairwise_distances(projected_tf_df[(projected_tf_df[\"edition\"] == \"2020\") & (projected_tf_df[\"type\"] == \"GT\")].drop(columns=[\"type\", \"name\", \"edition\"]))))\n",
    "print(\"Median distance between all books in 2020 translation (NT):\", np.median(pairwise_distances(projected_tf_df[(projected_tf_df[\"edition\"] == \"2020\") & (projected_tf_df[\"type\"] == \"NT\")].drop(columns=[\"type\", \"name\", \"edition\"]))))\n"
   ]
  },
  {
   "cell_type": "code",
   "execution_count": 19,
   "id": "37919110",
   "metadata": {},
   "outputs": [],
   "source": [
    "\n",
    "\n",
    "# Compute distances\n",
    "from sklearn.metrics.pairwise import cosine_similarity, manhattan_distances\n",
    "\n",
    "distances = []\n",
    "for book in pd.unique(term_frequency_df.name):\n",
    "    book_type = term_frequency_df[term_frequency_df[\"name\"] == book][\"type\"].iloc[0]\n",
    "    tf_1992 = term_frequency_df[(term_frequency_df[\"name\"] == book) & (term_frequency_df[\"edition\"] == \"1992\")]\n",
    "    tf_2020 = term_frequency_df[(term_frequency_df[\"name\"] == book) & (term_frequency_df[\"edition\"] == \"2020\")]\n",
    "    distances.append({\n",
    "        \"book_type\": book_type,\n",
    "        \"book_name\": book,\n",
    "        \"manhattan_distance\": manhattan_distances(tf_1992.drop(columns=[\"type\", \"name\", \"edition\"]).values, tf_2020.drop(columns=[\"type\", \"name\", \"edition\"]).values)[0][0],\n",
    "        \"cosine_similarity\": cosine_similarity(tf_1992.drop(columns=[\"type\", \"name\", \"edition\"]).values, tf_2020.drop(columns=[\"type\", \"name\", \"edition\"]).values)[0][0]})\n",
    "\n"
   ]
  },
  {
   "cell_type": "code",
   "execution_count": 21,
   "id": "93eb6219",
   "metadata": {},
   "outputs": [],
   "source": [
    "df_distances = pd.DataFrame(distances)\n",
    "\n"
   ]
  },
  {
   "cell_type": "code",
   "execution_count": null,
   "id": "42c1f6cb",
   "metadata": {},
   "outputs": [],
   "source": [
    "#Figure 2 Calculations"
   ]
  },
  {
   "cell_type": "code",
   "execution_count": null,
   "id": "d6d28310",
   "metadata": {},
   "outputs": [
    {
     "data": {
      "image/png": "[encoded data removed]",
      "text/plain": [
       "<Figure size 1600x200 with 2 Axes>"
      ]
     },
     "metadata": {},
     "output_type": "display_data"
    }
   ],
   "source": [
    "plt.figure(figsize=(16, 2))\n",
    "\n",
    "# Sort dataframe\n",
    "sorted_df_distances = df_distances.sort_values(\"manhattan_distance\", ascending=False)\n",
    "\n",
    "# no prefixes\n",
    "sorted_df_distances['book_name'] = sorted_df_distances['book_name'].str.replace(r'^\\d+_', '', regex=True)\n",
    "\n",
    "#  heatmap\n",
    "ax = sns.heatmap(\n",
    "    sorted_df_distances.manhattan_distance.values.reshape(1, -1),\n",
    "    cmap=\"crest\",\n",
    "    xticklabels=sorted_df_distances.book_name,\n",
    "    yticklabels=False,\n",
    "    cbar=True\n",
    ")\n",
    "\n",
    "for tick_label, book_type in zip(ax.axes.get_xticklabels(), sorted_df_distances.book_type):\n",
    "    if book_type == \"NT\":\n",
    "        tick_label.set_color(\"blue\")\n",
    "    else:\n",
    "        tick_label.set_color(\"red\")"
   ]
  },
  {
   "cell_type": "code",
   "execution_count": null,
   "id": "dad7b521",
   "metadata": {},
   "outputs": [],
   "source": [
    "#Frequency Based Vectorizer\n",
    "\n",
    "#restart the kernel and run from here"
   ]
  },
  {
   "cell_type": "code",
   "execution_count": null,
   "id": "581b5b19",
   "metadata": {},
   "outputs": [
    {
     "name": "stderr",
     "output_type": "stream",
     "text": [
      "/Users/au256145/bibelen2020_appendices/bib2020venv/lib/python3.11/site-packages/sklearn/feature_extraction/text.py:402: UserWarning: Your stop_words may be inconsistent with your preprocessing. Tokenizing the stop words generated tokens ['bl', 'ca', 'eks', 'pga'] not in stop_words.\n",
      "  warnings.warn(\n"
     ]
    }
   ],
   "source": [
    "\n",
    "\n",
    "# Check the Vectorizer type being used\n",
    "from sklearn.feature_extraction.text import TfidfVectorizer\n",
    "from sklearn.decomposition import PCA\n",
    "\n",
    "tfidf_freq = TfidfVectorizer(stop_words=open(\"stopord_351_berteltorptxt.txt\").read().split(\"\\n\"), use_idf=False)\n",
    "pca_freq = PCA(n_components=2)\n",
    "\n",
    "tf_freq = tfidf_freq.fit_transform(books_df[\"lemmatized_content\"])\n",
    "\n",
    "term_frequency_freq_df = pd.DataFrame(tf_freq.todense(), columns=tfidf_freq.get_feature_names_out())\n",
    "term_frequency_freq_df[\"type_freq\"] = books_df[\"type\"]\n",
    "term_frequency_freq_df[\"name_freq\"] = books_df[\"name\"]\n",
    "term_frequency_freq_df[\"edition_freq\"] = books_df[\"edition\"]\n",
    "\n",
    "projected_tf_freq = pca_freq.fit_transform(tf_freq.toarray())\n",
    "projected_tf_freq_df = pd.DataFrame(projected_tf_freq, columns=[\"x_freq\", \"y_freq\"])\n",
    "projected_tf_freq_df[\"type_freq\"] = books_df[\"type\"]\n",
    "projected_tf_freq_df[\"name_freq\"] = books_df[\"name\"]\n",
    "projected_tf_freq_df[\"edition_freq\"] = books_df[\"edition\"]\n",
    "\n"
   ]
  },
  {
   "cell_type": "code",
   "execution_count": null,
   "id": "3bdf4854",
   "metadata": {},
   "outputs": [],
   "source": [
    "from sklearn.metrics.pairwise import cosine_similarity, manhattan_distances\n",
    "\n",
    "distances_freq = []\n",
    "\n",
    "for book_freq in pd.unique(term_frequency_freq_df.name_freq):\n",
    "    book_type_freq = term_frequency_freq_df[term_frequency_freq_df[\"name_freq\"] == book_freq][\"type_freq\"].iloc[0]\n",
    "    \n",
    "    tf_1992_freq = term_frequency_freq_df[\n",
    "        (term_frequency_freq_df[\"name_freq\"] == book_freq) & \n",
    "        (term_frequency_freq_df[\"edition_freq\"] == \"1992\")\n",
    "    ]\n",
    "    \n",
    "    tf_2020_freq = term_frequency_freq_df[\n",
    "        (term_frequency_freq_df[\"name_freq\"] == book_freq) & \n",
    "        (term_frequency_freq_df[\"edition_freq\"] == \"2020\")\n",
    "    ]\n",
    "    \n",
    "    tf_1992_values_freq = tf_1992_freq.drop(columns=[\"type_freq\", \"name_freq\", \"edition_freq\"]).values\n",
    "    tf_2020_values_freq = tf_2020_freq.drop(columns=[\"type_freq\", \"name_freq\", \"edition_freq\"]).values\n",
    "    \n",
    "    distances_freq.append({\n",
    "        \"book_type_freq\": book_type_freq,\n",
    "        \"book_name_freq\": book_freq,\n",
    "        \"manhattan_distance_freq\": manhattan_distances(tf_1992_values_freq, tf_2020_values_freq)[0][0],\n",
    "        \"cosine_similarity_freq\": cosine_similarity(tf_1992_values_freq, tf_2020_values_freq)[0][0]\n",
    "    })\n"
   ]
  },
  {
   "cell_type": "code",
   "execution_count": 33,
   "id": "543b034f",
   "metadata": {},
   "outputs": [],
   "source": [
    "df_distances_freq = pd.DataFrame(distances_freq)"
   ]
  },
  {
   "cell_type": "code",
   "execution_count": 35,
   "id": "ef2cc896",
   "metadata": {},
   "outputs": [
    {
     "data": {
      "text/html": [
       "<div>\n",
       "<style scoped>\n",
       "    .dataframe tbody tr th:only-of-type {\n",
       "        vertical-align: middle;\n",
       "    }\n",
       "\n",
       "    .dataframe tbody tr th {\n",
       "        vertical-align: top;\n",
       "    }\n",
       "\n",
       "    .dataframe thead th {\n",
       "        text-align: right;\n",
       "    }\n",
       "</style>\n",
       "<table border=\"1\" class=\"dataframe\">\n",
       "  <thead>\n",
       "    <tr style=\"text-align: right;\">\n",
       "      <th></th>\n",
       "      <th>manhattan_distance_freq</th>\n",
       "      <th>book_name_freq</th>\n",
       "      <th>book_type_freq</th>\n",
       "    </tr>\n",
       "  </thead>\n",
       "  <tbody>\n",
       "    <tr>\n",
       "      <th>64</th>\n",
       "      <td>6.495153</td>\n",
       "      <td>62_1John</td>\n",
       "      <td>NT</td>\n",
       "    </tr>\n",
       "    <tr>\n",
       "      <th>61</th>\n",
       "      <td>7.230438</td>\n",
       "      <td>63_2John</td>\n",
       "      <td>NT</td>\n",
       "    </tr>\n",
       "    <tr>\n",
       "      <th>56</th>\n",
       "      <td>7.521282</td>\n",
       "      <td>43_John</td>\n",
       "      <td>NT</td>\n",
       "    </tr>\n",
       "    <tr>\n",
       "      <th>57</th>\n",
       "      <td>8.059578</td>\n",
       "      <td>64_3John</td>\n",
       "      <td>NT</td>\n",
       "    </tr>\n",
       "    <tr>\n",
       "      <th>31</th>\n",
       "      <td>8.066937</td>\n",
       "      <td>17_Esth</td>\n",
       "      <td>GT</td>\n",
       "    </tr>\n",
       "    <tr>\n",
       "      <th>65</th>\n",
       "      <td>8.139315</td>\n",
       "      <td>57_Phlm</td>\n",
       "      <td>NT</td>\n",
       "    </tr>\n",
       "    <tr>\n",
       "      <th>8</th>\n",
       "      <td>8.783302</td>\n",
       "      <td>09_1Sam</td>\n",
       "      <td>GT</td>\n",
       "    </tr>\n",
       "    <tr>\n",
       "      <th>33</th>\n",
       "      <td>9.510355</td>\n",
       "      <td>08_Ruth</td>\n",
       "      <td>GT</td>\n",
       "    </tr>\n",
       "    <tr>\n",
       "      <th>19</th>\n",
       "      <td>9.908784</td>\n",
       "      <td>10_2Sam</td>\n",
       "      <td>GT</td>\n",
       "    </tr>\n",
       "    <tr>\n",
       "      <th>23</th>\n",
       "      <td>9.991750</td>\n",
       "      <td>32_Jonah</td>\n",
       "      <td>GT</td>\n",
       "    </tr>\n",
       "    <tr>\n",
       "      <th>32</th>\n",
       "      <td>10.435449</td>\n",
       "      <td>01_Gen</td>\n",
       "      <td>GT</td>\n",
       "    </tr>\n",
       "    <tr>\n",
       "      <th>9</th>\n",
       "      <td>10.957955</td>\n",
       "      <td>37_Hag</td>\n",
       "      <td>GT</td>\n",
       "    </tr>\n",
       "    <tr>\n",
       "      <th>17</th>\n",
       "      <td>10.967004</td>\n",
       "      <td>19_Ps</td>\n",
       "      <td>GT</td>\n",
       "    </tr>\n",
       "    <tr>\n",
       "      <th>10</th>\n",
       "      <td>10.978305</td>\n",
       "      <td>06_Josh</td>\n",
       "      <td>GT</td>\n",
       "    </tr>\n",
       "    <tr>\n",
       "      <th>41</th>\n",
       "      <td>11.237980</td>\n",
       "      <td>53_2Thess</td>\n",
       "      <td>NT</td>\n",
       "    </tr>\n",
       "  </tbody>\n",
       "</table>\n",
       "</div>"
      ],
      "text/plain": [
       "    manhattan_distance_freq book_name_freq book_type_freq\n",
       "64                 6.495153       62_1John             NT\n",
       "61                 7.230438       63_2John             NT\n",
       "56                 7.521282        43_John             NT\n",
       "57                 8.059578       64_3John             NT\n",
       "31                 8.066937        17_Esth             GT\n",
       "65                 8.139315        57_Phlm             NT\n",
       "8                  8.783302        09_1Sam             GT\n",
       "33                 9.510355        08_Ruth             GT\n",
       "19                 9.908784        10_2Sam             GT\n",
       "23                 9.991750       32_Jonah             GT\n",
       "32                10.435449         01_Gen             GT\n",
       "9                 10.957955         37_Hag             GT\n",
       "17                10.967004          19_Ps             GT\n",
       "10                10.978305        06_Josh             GT\n",
       "41                11.237980      53_2Thess             NT"
      ]
     },
     "execution_count": 35,
     "metadata": {},
     "output_type": "execute_result"
    }
   ],
   "source": [
    "df_distances_freq[[\"manhattan_distance_freq\", \"book_name_freq\", \"book_type_freq\"]].sort_values(\"manhattan_distance_freq\", ascending=True).head(15)"
   ]
  },
  {
   "cell_type": "code",
   "execution_count": null,
   "id": "f947592f",
   "metadata": {},
   "outputs": [
    {
     "data": {
      "image/png": "[encoded data removed]",
      "text/plain": [
       "<Figure size 1600x200 with 2 Axes>"
      ]
     },
     "metadata": {},
     "output_type": "display_data"
    }
   ],
   "source": [
    "#Figure 3 Calculations\n",
    "\n",
    "import re\n",
    "\n",
    "plt.figure(figsize=(16,2))\n",
    "\n",
    "sorted_df_distances_freq = df_distances_freq.sort_values(\"manhattan_distance_freq\", ascending=False).copy()\n",
    "\n",
    "sorted_df_distances_freq[\"book_name_freq\"] = sorted_df_distances_freq[\"book_name_freq\"].apply(lambda x: re.sub(r\"^\\d+_\", \"\", x))\n",
    "\n",
    "ax = sns.heatmap(\n",
    "    sorted_df_distances_freq.manhattan_distance_freq.values.reshape(1, -1), \n",
    "    cmap=\"crest\", \n",
    "    xticklabels=sorted_df_distances_freq.book_name_freq, \n",
    "    yticklabels=False, \n",
    "    cbar=True\n",
    ")\n",
    "\n",
    "for tick_label, book_type_freq in zip(ax.axes.get_xticklabels(), sorted_df_distances_freq.book_type_freq):\n",
    "    if book_type_freq == \"NT\":\n",
    "        tick_label.set_color(\"blue\")\n",
    "    else:\n",
    "        tick_label.set_color(\"red\")"
   ]
  },
  {
   "cell_type": "code",
   "execution_count": null,
   "id": "70a4c9d5",
   "metadata": {},
   "outputs": [],
   "source": [
    "## Readability Analyses\n",
    "# Restart Kernel and install below\n"
   ]
  },
  {
   "cell_type": "code",
   "execution_count": 1,
   "id": "b04b2542",
   "metadata": {},
   "outputs": [
    {
     "name": "stdout",
     "output_type": "stream",
     "text": [
      "Requirement already satisfied: nltk in ./bib2020venv/lib/python3.11/site-packages (3.9.1)\n",
      "Requirement already satisfied: click in ./bib2020venv/lib/python3.11/site-packages (from nltk) (8.2.1)\n",
      "Requirement already satisfied: joblib in ./bib2020venv/lib/python3.11/site-packages (from nltk) (1.5.1)\n",
      "Requirement already satisfied: regex>=2021.8.3 in ./bib2020venv/lib/python3.11/site-packages (from nltk) (2025.7.34)\n",
      "Requirement already satisfied: tqdm in ./bib2020venv/lib/python3.11/site-packages (from nltk) (4.67.1)\n",
      "\n",
      "\u001b[1m[\u001b[0m\u001b[34;49mnotice\u001b[0m\u001b[1;39;49m]\u001b[0m\u001b[39;49m A new release of pip is available: \u001b[0m\u001b[31;49m23.2.1\u001b[0m\u001b[39;49m -> \u001b[0m\u001b[32;49m25.2\u001b[0m\n",
      "\u001b[1m[\u001b[0m\u001b[34;49mnotice\u001b[0m\u001b[1;39;49m]\u001b[0m\u001b[39;49m To update, run: \u001b[0m\u001b[32;49mpip install --upgrade pip\u001b[0m\n",
      "Collecting da-core-news-sm==3.8.0\n",
      "  Downloading https://github.com/explosion/spacy-models/releases/download/da_core_news_sm-3.8.0/da_core_news_sm-3.8.0-py3-none-any.whl (12.4 MB)\n",
      "\u001b[2K     \u001b[90m━━━━━━━━━━━━━━━━━━━━━━━━━━━━━━━━━━━━━━━━\u001b[0m \u001b[32m12.4/12.4 MB\u001b[0m \u001b[31m8.3 MB/s\u001b[0m eta \u001b[36m0:00:00\u001b[0m00:01\u001b[0m00:01\u001b[0m\n",
      "\u001b[?25hInstalling collected packages: da-core-news-sm\n",
      "Successfully installed da-core-news-sm-3.8.0\n",
      "\n",
      "\u001b[1m[\u001b[0m\u001b[34;49mnotice\u001b[0m\u001b[1;39;49m]\u001b[0m\u001b[39;49m A new release of pip is available: \u001b[0m\u001b[31;49m23.2.1\u001b[0m\u001b[39;49m -> \u001b[0m\u001b[32;49m25.2\u001b[0m\n",
      "\u001b[1m[\u001b[0m\u001b[34;49mnotice\u001b[0m\u001b[1;39;49m]\u001b[0m\u001b[39;49m To update, run: \u001b[0m\u001b[32;49mpip install --upgrade pip\u001b[0m\n",
      "\u001b[38;5;2m✔ Download and installation successful\u001b[0m\n",
      "You can now load the package via spacy.load('da_core_news_sm')\n"
     ]
    }
   ],
   "source": [
    "!pip install nltk\n",
    "!python -m spacy download da_core_news_sm"
   ]
  },
  {
   "cell_type": "code",
   "execution_count": null,
   "id": "3f0162b3",
   "metadata": {},
   "outputs": [],
   "source": [
    "#Restart after installation"
   ]
  },
  {
   "cell_type": "code",
   "execution_count": null,
   "id": "ed4e06aa",
   "metadata": {},
   "outputs": [],
   "source": [
    "#load dataset with punctuation"
   ]
  },
  {
   "cell_type": "code",
   "execution_count": 1,
   "id": "99b66bfb",
   "metadata": {},
   "outputs": [],
   "source": [
    "from glob import glob\n",
    "import pandas as pd\n",
    "\n",
    "books = []\n",
    "\n",
    "\n",
    "for book in glob(\"./data1_wpunct/books/*/*/*.txt\"):\n",
    "    book_type = book.split(\"/\")[-2].strip()\n",
    "    book_translator = book.split(\"/\")[-3].strip()\n",
    "    book_name = book.split(\"/\")[-1].split(\".\")[0].replace(book_translator, \"\").strip()\n",
    "    with open(book, \"r\") as f:\n",
    "        book_content = f.read().replace(\"\\n\", \" \").strip()\n",
    "    books.append({\n",
    "        \"type\": book_type,\n",
    "        \"name\": book_name,\n",
    "        \"edition\": book_translator,\n",
    "        \"content\": book_content\n",
    "    })\n",
    "\n",
    "book_df = pd.DataFrame(books)"
   ]
  },
  {
   "cell_type": "code",
   "execution_count": 2,
   "id": "3dec40a5",
   "metadata": {},
   "outputs": [],
   "source": [
    "from utils import TextAnalyzer"
   ]
  },
  {
   "cell_type": "code",
   "execution_count": 3,
   "id": "c2f71e1c",
   "metadata": {},
   "outputs": [
    {
     "name": "stderr",
     "output_type": "stream",
     "text": [
      "[nltk_data] Downloading package punkt_tab to\n",
      "[nltk_data]     /Users/au256145/nltk_data...\n",
      "[nltk_data]   Package punkt_tab is already up-to-date!\n"
     ]
    },
    {
     "data": {
      "text/plain": [
       "True"
      ]
     },
     "execution_count": 3,
     "metadata": {},
     "output_type": "execute_result"
    }
   ],
   "source": [
    "import nltk\n",
    "nltk.download('punkt_tab')\n"
   ]
  },
  {
   "cell_type": "code",
   "execution_count": 4,
   "id": "ed3d606e",
   "metadata": {},
   "outputs": [],
   "source": [
    "import spacy\n",
    "nlp = spacy.load(\"da_core_news_sm\")"
   ]
  },
  {
   "cell_type": "code",
   "execution_count": 5,
   "id": "abf0cf9d",
   "metadata": {},
   "outputs": [],
   "source": [
    "book_df = book_df.assign(lix = book_df.content.apply(lambda x: TextAnalyzer(x).calculate_lix()))\n",
    "book_df = book_df.assign(rix=book_df.content.apply(lambda x: TextAnalyzer(x).calculate_rix()))\n",
    "\n",
    "#book_df = book_df.assign(dc = book_df.content.apply(lambda x: DaleChall(x, locale='da_DK').min_age))\n",
    "#book_df = book_df.assign(fk=book_df.content.apply(lambda x: FleschKincaid(x, locale='da_DK').min_age))"
   ]
  },
  {
   "cell_type": "code",
   "execution_count": 6,
   "id": "040f2b91",
   "metadata": {},
   "outputs": [],
   "source": [
    "\n",
    "df_to_save = book_df[[\"name\", \"edition\", \"lix\", \"rix\"]].copy()\n",
    "\n",
    "\n",
    "df_to_save[\"lix\"] = df_to_save[\"lix\"].round(2)\n",
    "df_to_save[\"rix\"] = df_to_save[\"rix\"].round(2)\n",
    "\n",
    "\n",
    "df_to_save.sort_values(by=\"lix\", ascending=False).to_csv(\"lix_rix_sorted.csv\", index=False)"
   ]
  },
  {
   "cell_type": "code",
   "execution_count": null,
   "id": "8e68fb0e",
   "metadata": {},
   "outputs": [],
   "source": [
    "#Table 13 Calculations"
   ]
  },
  {
   "cell_type": "code",
   "execution_count": 10,
   "id": "7623fda5",
   "metadata": {},
   "outputs": [
    {
     "name": "stdout",
     "output_type": "stream",
     "text": [
      "  edition type  lix_mean  rix_mean\n",
      "0    1992  ALL     31.70      2.49\n",
      "1    2020  ALL     30.27      2.28\n",
      "2    1992   NT     32.77      2.72\n",
      "3    1992   GT     30.95      2.33\n",
      "4    2020   NT     29.76      2.21\n",
      "5    2020   GT     30.62      2.32\n"
     ]
    }
   ],
   "source": [
    "rows = []\n",
    "\n",
    "# Hele årgangen\n",
    "for edition in [\"1992\", \"2020\"]:\n",
    "    mean_vals = book_df[book_df.edition == edition][[\"lix\", \"rix\"]].mean()\n",
    "    rows.append({\n",
    "        \"edition\": edition,\n",
    "        \"type\": \"ALL\",\n",
    "        \"lix_mean\": round(mean_vals[\"lix\"], 2),\n",
    "        \"rix_mean\": round(mean_vals[\"rix\"], 2)\n",
    "    })\n",
    "\n",
    "# NT og GT\n",
    "for edition in [\"1992\", \"2020\"]:\n",
    "    for book_type, label in [(\"NT\", \"NT\"), (\"GT\", \"GT\")]:\n",
    "        mean_vals = book_df[(book_df.edition == edition) & (book_df.type == book_type)][[\"lix\", \"rix\"]].mean()\n",
    "        rows.append({\n",
    "            \"edition\": edition,\n",
    "            \"type\": label,\n",
    "            \"lix_mean\": round(mean_vals[\"lix\"], 2),\n",
    "            \"rix_mean\": round(mean_vals[\"rix\"], 2)\n",
    "        })\n",
    "\n",
    "lix_rix_mean_df = pd.DataFrame(rows)\n",
    "print(lix_rix_mean_df)\n",
    "lix_rix_mean_df.to_csv(\"lix_rix_mean1_df.csv\", index=False)\n"
   ]
  },
  {
   "cell_type": "code",
   "execution_count": 17,
   "id": "4b865f41",
   "metadata": {},
   "outputs": [
    {
     "data": {
      "image/png": "[encoded data removed]",
      "text/plain": [
       "<Figure size 1600x300 with 2 Axes>"
      ]
     },
     "metadata": {},
     "output_type": "display_data"
    }
   ],
   "source": [
    "from matplotlib import pyplot as plt\n",
    "import seaborn as sns\n",
    "import re\n",
    "\n",
    "plt.figure(figsize=(16, 3))\n",
    "\n",
    "# Filtrer kun 1992 og sorter efter LIX (højeste først)\n",
    "sorted_1992 = book_df[book_df[\"edition\"] == \"1992\"][[\"name\", \"lix\", \"type\"]].sort_values(by=\"lix\", ascending=False).copy()\n",
    "\n",
    "# Fjern tal + underscore præfix i navne\n",
    "sorted_1992[\"name_clean\"] = sorted_1992[\"name\"].apply(lambda s: re.sub(r\"^\\d+_\", \"\", s))\n",
    "\n",
    "ax = sns.heatmap(\n",
    "    sorted_1992.lix.values.reshape(1, -1),\n",
    "    cmap=\"magma\",\n",
    "    xticklabels=sorted_1992.name_clean,\n",
    "    yticklabels=False,\n",
    "    cbar=True\n",
    ")\n",
    "\n",
    "for tick_label, book_type in zip(ax.axes.get_xticklabels(), sorted_1992.type):\n",
    "    if book_type == \"NT\":\n",
    "        tick_label.set_color(\"blue\")\n",
    "    else:\n",
    "        tick_label.set_color(\"red\")\n",
    "\n",
    "plt.title(\"Figure 4: LIX-scale for DO92, descending\")\n",
    "plt.tight_layout()\n",
    "plt.show()"
   ]
  },
  {
   "cell_type": "code",
   "execution_count": 16,
   "id": "750a941d",
   "metadata": {},
   "outputs": [
    {
     "data": {
      "image/png": "[encoded data removed]",
      "text/plain": [
       "<Figure size 1600x300 with 2 Axes>"
      ]
     },
     "metadata": {},
     "output_type": "display_data"
    }
   ],
   "source": [
    "from matplotlib import pyplot as plt\n",
    "import seaborn as sns\n",
    "import re\n",
    "\n",
    "plt.figure(figsize=(16, 3))\n",
    "\n",
    "# Filtrer kun 2020 og sorter efter LIX (højeste først)\n",
    "sorted_2020 = book_df[book_df[\"edition\"] == \"2020\"][[\"name\", \"lix\", \"type\"]].sort_values(by=\"lix\", ascending=False).copy()\n",
    "\n",
    "# Fjern tal + underscore præfix i navne\n",
    "sorted_2020[\"name_clean\"] = sorted_2020[\"name\"].apply(lambda s: re.sub(r\"^\\d+_\", \"\", s))\n",
    "\n",
    "ax = sns.heatmap(\n",
    "    sorted_2020.lix.values.reshape(1, -1),\n",
    "    cmap=\"magma\",\n",
    "    xticklabels=sorted_2020.name_clean,\n",
    "    yticklabels=False,\n",
    "    cbar=True\n",
    ")\n",
    "\n",
    "for tick_label, book_type in zip(ax.axes.get_xticklabels(), sorted_2020.type):\n",
    "    if book_type == \"NT\":\n",
    "        tick_label.set_color(\"blue\")\n",
    "    else:\n",
    "        tick_label.set_color(\"red\")\n",
    "\n",
    "plt.title(\"Figure 5: LIX in 2020 translation, descending\")\n",
    "plt.tight_layout()\n",
    "plt.show()"
   ]
  },
  {
   "cell_type": "code",
   "execution_count": 13,
   "id": "8aa3c0c3",
   "metadata": {},
   "outputs": [],
   "source": [
    "delta_diff_rix = book_df[(book_df.edition == \"1992\")].set_index(\"name\")[[\"lix\",\"rix\"]].sort_index() - book_df[(book_df.edition == \"2020\")].set_index(\"name\")[[\"lix\",\"rix\"]].sort_index()\n",
    "delta_diff_rix = delta_diff_rix.assign(type=book_df[(book_df.edition == \"1992\")].set_index(\"name\").sort_index().type).reset_index()\n"
   ]
  },
  {
   "cell_type": "code",
   "execution_count": 15,
   "id": "bc7813c9",
   "metadata": {},
   "outputs": [
    {
     "data": {
      "image/png": "[encoded data removed]",
      "text/plain": [
       "<Figure size 1600x300 with 2 Axes>"
      ]
     },
     "metadata": {},
     "output_type": "display_data"
    }
   ],
   "source": [
    "from matplotlib import pyplot as plt\n",
    "import seaborn as sns\n",
    "import re\n",
    "\n",
    "plt.figure(figsize=(16, 3))\n",
    "\n",
    "# Fjern tal + underscore præfix i navne\n",
    "sorted_readability = delta_diff_rix[[\"name\", \"lix\", \"type\"]].sort_values(ascending=False, by=\"lix\").copy()\n",
    "sorted_readability[\"name_clean\"] = sorted_readability[\"name\"].apply(lambda s: re.sub(r\"^\\d+_\", \"\", s))\n",
    "\n",
    "ax = sns.heatmap(\n",
    "    sorted_readability.lix.values.reshape(1, -1),\n",
    "    cmap=\"magma\",\n",
    "    xticklabels=sorted_readability.name_clean,\n",
    "    yticklabels=False,\n",
    "    cbar=True\n",
    ")\n",
    "\n",
    "for tick_label, book_type in zip(ax.axes.get_xticklabels(), sorted_readability.type):\n",
    "    if book_type == \"NT\":\n",
    "        tick_label.set_color(\"blue\")\n",
    "    else:\n",
    "        tick_label.set_color(\"red\")\n",
    "\n",
    "plt.title(\"Figure 6: Changes in LIX-scores between 1992 and 2020 translations\")\n",
    "plt.tight_layout()\n",
    "plt.show()"
   ]
  },
  {
   "cell_type": "code",
   "execution_count": null,
   "id": "d8b17f25",
   "metadata": {},
   "outputs": [],
   "source": [
    "#NB: results concerning Coleman-Liau are obtained from an external tool (Voyant) to which the same data has been uploaded and the results have been added to the article tables manually"
   ]
  }
 ],
 "metadata": {
  "kernelspec": {
   "display_name": "bib2020venv",
   "language": "python",
   "name": "python3"
  },
  "language_info": {
   "codemirror_mode": {
    "name": "ipython",
    "version": 3
   },
   "file_extension": ".py",
   "mimetype": "text/x-python",
   "name": "python",
   "nbconvert_exporter": "python",
   "pygments_lexer": "ipython3",
   "version": "3.11.5"
  }
 },
 "nbformat": 4,
 "nbformat_minor": 5
}
